{
 "cells": [
  {
   "cell_type": "markdown",
   "id": "amber-packaging",
   "metadata": {},
   "source": [
    "# Lab 1: Intro to Python"
   ]
  },
  {
   "cell_type": "markdown",
   "id": "mental-input",
   "metadata": {},
   "source": [
    "## Step 0: Install Anaconda"
   ]
  },
  {
   "cell_type": "markdown",
   "id": "compound-pressing",
   "metadata": {},
   "source": [
    "- see the notes on Blackboard under `python_stuff`"
   ]
  },
  {
   "cell_type": "markdown",
   "id": "general-spectrum",
   "metadata": {},
   "source": [
    "## Main Topics\n",
    "\n",
    "- basic syntax and creating variables\n",
    "- working with Jupyter Notebooks\n",
    "- `for` loops\n",
    "- `if/then` statements\n",
    "- plotting\n",
    "- working with data\n"
   ]
  },
  {
   "cell_type": "markdown",
   "id": "respected-modification",
   "metadata": {},
   "source": [
    "## Step 1: Presentations by Dr. Krauss\n",
    "\n",
    "Download and follow along:\n",
    "\n",
    "- [intro_to_Python.ipynb](intro_to_Python.ipynb)\n",
    "- [intro_to_scientific_and_engineering_python.ipynb](intro_to_scientific_and_engineering_python.ipynb)"
   ]
  },
  {
   "cell_type": "markdown",
   "id": "national-multiple",
   "metadata": {},
   "source": [
    "## Step 2: Notebooks to read and work through on your own\n",
    "\n",
    "- [for_loops.ipynb](for_loops.ipynb)\n",
    "- [plotting_with_matplotlib.ipynb](plotting_with_matplotlib.ipynb)\n",
    "- [slicing_and_indexing.ipynb](slicing_and_indexing.ipynb)"
   ]
  },
  {
   "cell_type": "markdown",
   "id": "centered-proposition",
   "metadata": {},
   "source": [
    "## Step 3: First Batch of Tasks"
   ]
  },
  {
   "cell_type": "markdown",
   "id": "processed-airport",
   "metadata": {},
   "source": [
    "### Task 1: Plotting\n",
    "\n",
    "- generate a plot of a sine wave vs. time:\n",
    "    - create a time vector using `np.arange`\n",
    "    - use `plt.figure` and `plt.plot` to create the graph\n",
    "    - also use `plt.xlabel`, `plt.ylabel`, and `plt.title` to complete the plot\n",
    "\n",
    "### Task 2: loadtxt and for loops\n",
    "\n",
    "- write Python code that finds all of the `*.csv` files in a folder, loads each `*.csv` file into an array, and then generates on plot per file\n",
    "    - assume each `*.csv` file contains data in columns where the first column is time\n",
    "    - plot the remaining columns vs. time on one plot\n",
    "    - the data files may have different numbers of columns in them\n",
    "\n",
    "- Here are links to three csv files:\n",
    "    - [data file 1](https://drive.google.com/open?id=1M8q4apJsByw8Lz5rE_-nCBfUYUDNwdeW)\n",
    "    - [data file 2](https://drive.google.com/open?id=1WCuNvv6sNyRbhnU539Dz1A8OiTnckNTf)\n",
    "    - [data file 3](https://drive.google.com/open?id=1paEQqDaofhXamcp2qhhYxuGin9MHQt9Q)\n",
    "\n",
    "\n",
    "- download all three files to the same folder\n",
    "- use `glob.glob` to find all of the `*.csv` files in a given folder\n",
    "- use `np.loadtxt` to load the data from one `*.csv` file into an array\n",
    "- use `plt.figure`, `plt.plot`, ... to generate the plots\n",
    "\n",
    "\n"
   ]
  },
  {
   "cell_type": "markdown",
   "id": "8db9f0e4-921e-42ba-823f-83a46a084a32",
   "metadata": {},
   "source": [
    "## Step 4: Intro to Dynamic Systems"
   ]
  },
  {
   "cell_type": "markdown",
   "id": "f0bf1297-0055-4eea-ba4a-b0db5f20fcc6",
   "metadata": {},
   "source": [
    "### RC Circuit\n",
    "\n",
    "<img src=\"https://faculty.gvsu.edu/kraussry/345_images/lab/RC_filter.jpg\" width=350px>\n",
    "\n",
    "The RC circuit shown above is governed by the differential equation\n",
    "\n",
    "$$\\dot{v}_{out} + p \\, v_{out} = p \\, v_{in}$$\n",
    "\n",
    "where $p = 1/(RC)$\n",
    "\n",
    "Assuming that $p$ = 10, $v{out}(0) = 0$, and that $v_{in}$ switches on from 0 to 1 V at $t$ = 0, find the output of the system $v_{out}(t)$. \n",
    "\n",
    "#### Solve this problem three ways:\n",
    "\n",
    "- \"by hand\" using techniques you learned in differential equations\n",
    "- by numerical integration using the function `scipy.integrate.odeint`\n",
    "- using a transfer function:\n",
    "    - `control.TransferFunction`\n",
    "    - `control.step_response`"
   ]
  }
 ],
 "metadata": {
  "kernelspec": {
   "display_name": "Python 3 (ipykernel)",
   "language": "python",
   "name": "python3"
  },
  "language_info": {
   "codemirror_mode": {
    "name": "ipython",
    "version": 3
   },
   "file_extension": ".py",
   "mimetype": "text/x-python",
   "name": "python",
   "nbconvert_exporter": "python",
   "pygments_lexer": "ipython3",
   "version": "3.13.3"
  }
 },
 "nbformat": 4,
 "nbformat_minor": 5
}
