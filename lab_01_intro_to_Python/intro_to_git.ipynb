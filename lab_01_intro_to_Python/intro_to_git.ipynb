{
 "cells": [
  {
   "cell_type": "markdown",
   "id": "84f1d58a-1a12-4a4d-bc1b-b5a0a86a51c8",
   "metadata": {},
   "source": [
    "# Brief intro to git"
   ]
  },
  {
   "cell_type": "markdown",
   "id": "b309102f-359c-4cf8-b27b-6d518096cce5",
   "metadata": {},
   "source": [
    "## What is git?\n",
    "\n",
    "- a distributed version control system\n",
    "    - keeps track of any changes you have made to all files in a folder\n",
    "    - multiple people can work on things simultaneously\n",
    "    - everyone has their own copy\n",
    "    - intelligently merges files if multiple people have changed the same file\n",
    "        - until it doesn't...."
   ]
  },
  {
   "cell_type": "markdown",
   "id": "856dfc48-2a6f-4353-971b-22d652e1ef4b",
   "metadata": {},
   "source": [
    "## Is git better than google drive or onedrive?\n",
    "\n",
    "- everyone can work simultaneously\n",
    "- your changes do not immediately show up on other people's computers\n",
    "    - this is a feature, not a bug\n",
    "    - what if you later decide your change was a terrible idea?"
   ]
  },
  {
   "cell_type": "markdown",
   "id": "0373f123-af63-40d1-8630-94b177e8e533",
   "metadata": {},
   "source": [
    "## options for 345 lab\n",
    "\n",
    "1. treat github like blackboard\n",
    "    - manually download things\n",
    "    - figure out how you and your lab partner want to share files\n",
    "2. learn to use git\n",
    "    - downloading is handled automatically by `git pull`\n",
    "    - you and your lab partner learn to use git and merge your changes"
   ]
  },
  {
   "cell_type": "markdown",
   "id": "194ff51a-9a99-4b9c-a4c2-9d40cb6c073c",
   "metadata": {},
   "source": [
    "## warning\n",
    "\n",
    "The output in a Jupyter notebook and cause git to think two notebooks are different when they really aren't."
   ]
  },
  {
   "cell_type": "markdown",
   "id": "0a361f72-a8f1-4790-a990-f88f5d51fc65",
   "metadata": {},
   "source": [
    "## Using git in 345\n",
    "\n",
    "- you will need a github account and either git for windows or the github desktop app\n",
    "- fork my repo\n",
    "- add my repo as \"upstream\"\n",
    "\n",
    "`git remote add upstream https://github.com/ryanGT/345_lab_git.git`"
   ]
  },
  {
   "cell_type": "markdown",
   "id": "8f3eb146-fb4e-4cf6-a91f-1840a3d29dec",
   "metadata": {},
   "source": [
    "- pull from my repo to get new changes:\n",
    "\n",
    "`git pull upstream main`"
   ]
  }
 ],
 "metadata": {
  "kernelspec": {
   "display_name": "Python 3 (ipykernel)",
   "language": "python",
   "name": "python3"
  },
  "language_info": {
   "codemirror_mode": {
    "name": "ipython",
    "version": 3
   },
   "file_extension": ".py",
   "mimetype": "text/x-python",
   "name": "python",
   "nbconvert_exporter": "python",
   "pygments_lexer": "ipython3",
   "version": "3.13.3"
  }
 },
 "nbformat": 4,
 "nbformat_minor": 5
}
