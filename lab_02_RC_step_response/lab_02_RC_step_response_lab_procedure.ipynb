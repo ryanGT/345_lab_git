{
 "cells": [
  {
   "cell_type": "markdown",
   "metadata": {},
   "source": [
    "# Lab 2: Step Response of an RC Circuit"
   ]
  },
  {
   "cell_type": "markdown",
   "metadata": {},
   "source": [
    "## Introduction"
   ]
  },
  {
   "cell_type": "markdown",
   "metadata": {},
   "source": [
    "This lab has three primary learning objectives:\n",
    "\n",
    "1. helping students learn how to perform real-time dynamic systems and\n",
    "   control experiments using the Dr. Krauss' `wxbd_gui` and `py_block_diagram` modules\n",
    "2. helping students learn about transfer functions through\n",
    "   investigating the step response of an RC circuit\n",
    "3. helping students learn to curve fit data using `scipy.optimize.fmin`\n",
    "\n",
    "Throughout this course, we will use Arduino microcontrollers in conjunction with Python to run dynamic systems and control experiments.  \n",
    "\n",
    "An RC circuit is a fairly simple dynamic system and will be used in this lab to help students begin to think in terms of transfer functions.  The results of an experimental step response will be used to estimate transfer function coefficients.  Experimental results will then be compared to Python simulations.\n"
   ]
  },
  {
   "cell_type": "markdown",
   "metadata": {},
   "source": [
    "## Lab 2 Prerequisites \n",
    "- install wxPython\n",
    "- install Dr Krauss' python libraries\n",
    "- install Arduino IDE 1.8.x\n",
    "- install Dr Krauss' Arduino Libraries:\n",
    "    - rtblockdiagram and kraussserial\n",
    "- launch `wxbd_gui`\n",
    "\n",
    "\n",
    "### install wxPython\n",
    "\n",
    "- Windows: pip install wxPython\n",
    "    - jupyter or anaconda prompt\n",
    "- Mac terminal: pip3 install wxPython\n",
    "\n",
    "\n",
    "### install Dr Krauss' python libraries\n",
    "\t\n",
    "- Windows: pip install wxbd_gui\n",
    "- Mac: pip3 install wxbd_gui\n",
    "\n",
    "### Arduino Stuff\n",
    "\n",
    "- install Arduino IDE 1.8.x\n",
    "- install Dr Krauss' Arduino Libraries: rtblockdiagram and kraussserial\n",
    "    - Windows: download zip files from GitHub\n",
    "        - [how to install Arduino libraries from zip files](https://docs.arduino.cc/software/ide-v1/tutorials/installing-libraries/#importing-a-zip-library)\n",
    "    - Mac: git clone in terminal from Arduino libraries folder:\n",
    "\n",
    "```\n",
    "cd ~/Arduino/libraries/\n",
    "git clone https://github.com/ryanGT/rtblockdiagram.git\n",
    "git clone https://github.com/ryanGT/kraussserial.git\n",
    "```\n",
    "\n",
    "**Mac Note:** Both `git clone` commands need to be executed within the folder `~/Arduino/libraries/`.\n",
    "\n",
    "**Dr. Krauss' git repos for Arduino:**\n",
    "\n",
    "- [https://github.com/ryanGT/rtblockdiagram](https://github.com/ryanGT/rtblockdiagram)\n",
    "-  [https://github.com/ryanGT/kraussserial](https://github.com/ryanGT/kraussserial)\n",
    "\n",
    "### Launch wxbd_gui on your computer \n",
    "\t\n",
    "- Windows: double click on launch_wxbd_gui\n",
    "    - you may need to know how to tell windows where python.exe is\n",
    "- Mac: navigate to the 345_lab_git/scripts_ 345 folder and execute the command: `python3 launch_wxbd_gui`\n",
    "\n",
    "\n"
   ]
  },
  {
   "cell_type": "markdown",
   "metadata": {},
   "source": [
    "## Main Steps\n",
    "\n",
    "- install and use Dr. Krauss' `wxbd_gui` module to auto-generate Arduino code \n",
    "  the performs a step response test for an RC circuit\n",
    "- build an RC circuit and connect it to the Arduino\n",
    "- compile the auto-generated Arduino code so that a step response test is run and \n",
    "  data is printed to the serial monitor\n",
    "- overlay the experimental step response with the result of Laplace analysis \"by hand\" as well as simulation results using `control.step_response`\n",
    "- curve fit the experimental step response data to improve your estimate of the TF parameters"
   ]
  },
  {
   "cell_type": "markdown",
   "metadata": {},
   "source": [
    "## Part 1: Installing and Using Dr. Krauss' `wxbd_gui` to Model the Dynamic System"
   ]
  },
  {
   "cell_type": "markdown",
   "metadata": {},
   "source": [
    "## Arduino Template"
   ]
  },
  {
   "cell_type": "markdown",
   "metadata": {},
   "source": [
    "`wxbd_gui` uses an Arduino template and inserts code for the block diagram model and certain points in the template.  The template is in `345_lab_git` and is called `arduino_template1_rev_3.ino`.  You will need to tell `wxbd_gui` where to find it. \n",
    "\n",
    "Note that the template cannot be compiled and is not intended to be compiled.  You also need to tell `wxbd_gui` the location of a folder where you want the output code saved.  That code will be compiled and loaded onto an Arduino Uno.\n",
    "\n",
    "Remember that Arduino code is saved in its own folder where the folder name is the same as the final `*.ino` file.  You give `wxbd_gui` the folder location and it creates the matching `*.ino` file with the correct name in the folder.  For example, if you gave it the folder location `C:\\Users\\DrKrauss\\Documents\\lab1\\RC_ino_1`, it would create a file called `RC_ino_1.ino` and place it in that folder."
   ]
  },
  {
   "cell_type": "markdown",
   "metadata": {},
   "source": [
    "## Basic Git usage\n",
    "\n",
    "We will use git as a way for me to get the template files and lab procedures.  Each Raspberry Pi should already have a clone of the `345_lab_git` repo.  To get to this repo, open a terminal and type the command `cd 345_lab_git`.  Note that you can use tab completion by typing `cd 345` and then hitting tab.  Once you are in the `345_lab_git` folder, type the command \n",
    "\n",
    "`git pull origin main`\n",
    "\n",
    "Also note that this command is in the command history.  You can type part of a command and then hit the up arrow to search the command history.  So, typing `git pull` and then hitting the up arrow should get you the command.\n",
    "\n",
    "The `345_lab_git` folder is for me to deliver files to you.  You should leave the Arduino templates in this folder and you should view the lab procedures from this folder.  \n",
    "\n",
    "- But you should **not** create any new files in the `345_lab_git` folder.  "
   ]
  },
  {
   "cell_type": "markdown",
   "metadata": {},
   "source": [
    "## Part 2: RC Step Response"
   ]
  },
  {
   "cell_type": "markdown",
   "metadata": {},
   "source": [
    "Once you have created the system model in `wxbd_gui` with a step input connected to the plant, you are ready to auto-generate the Arduino code and compile it.  Once the code compiles correctly, you are ready to connect the RC circuit below and run a test.  Real-time data should print to the serial monitor. "
   ]
  },
  {
   "cell_type": "markdown",
   "metadata": {},
   "source": [
    "## Final Block Diagram\n",
    "\n",
    "<img src=\"figs/RC_bd_screenshot.png\" width=500px>"
   ]
  },
  {
   "cell_type": "markdown",
   "metadata": {},
   "source": [
    "### Block Diagram Steps"
   ]
  },
  {
   "cell_type": "markdown",
   "metadata": {},
   "source": [
    "We need two blocks: the input, $U(s)$ and the plant, $G(s)$"
   ]
  },
  {
   "cell_type": "markdown",
   "metadata": {},
   "source": [
    "#### Step Input $U(s)$:\n",
    "\n",
    "- Menu: Block > Add Block should bring up a dialog\n",
    "- Block Category is input\n",
    "- Block Type is step input\n",
    "- default values are fine"
   ]
  },
  {
   "cell_type": "markdown",
   "metadata": {},
   "source": [
    "#### Plant $G(s)$\n",
    "\n",
    "- Menu: Block > Add Block\n",
    "- Block Category is Plant\n",
    "- Block Type is Plant\n",
    "- Choose U as the input\n",
    "\n",
    "when you choose Add Block it will pop up dialogs for the actutor and sensor.  The actuator is pwm_output and the sensor is analog_imput.  Again, the defaults should be fine.\n",
    "\n"
   ]
  },
  {
   "cell_type": "markdown",
   "metadata": {},
   "source": [
    "### Remaining wxbd_gui steps\n",
    "\n",
    "- specify the Arduino template location\n",
    "- specify the Arduino output folder\n",
    "- generate the code"
   ]
  },
  {
   "cell_type": "markdown",
   "metadata": {},
   "source": [
    "## Step Response Testing"
   ]
  },
  {
   "cell_type": "markdown",
   "metadata": {},
   "source": [
    "<img src=\"figs/rc_schematic.png\" width=400px>\n",
    "\n",
    "A schematic of an RC filter is shown above.\n",
    "In order to run a step response test, you will need to modify the\n",
    "Python code from Part 1 to communicate with the Arduino over serial.\n"
   ]
  },
  {
   "cell_type": "markdown",
   "metadata": {},
   "source": [
    "## Saving Your Data"
   ]
  },
  {
   "cell_type": "markdown",
   "metadata": {},
   "source": [
    "Once you have successfully run an RC step response test, save that data to a CSV or TXT file before you start curve fitting.  This will allow you to work on curve fitting without having to have your Arduino attached and running a new test each time.\n",
    "\n",
    "In order to save the data, copy the data from the Arduino serial monitor and paste it into a text editor.  Please note that Microsoft Word and Google Docs are NOT text editors.  We want to save the data into a file that contains only plain text.\n",
    "\n",
    "You will know you have done this correctly if you can use `np.loadtxt` to load the data into Python and plot it like you did in lab 1.\n"
   ]
  },
  {
   "cell_type": "markdown",
   "metadata": {},
   "source": [
    "## Curve Fitting"
   ]
  },
  {
   "cell_type": "markdown",
   "metadata": {},
   "source": [
    "Once you have the step response data, use `scipy.optimize.fmin` to\n",
    "curve fit it.  In order to do this, you will need to create a function that returns $v_{out}$ for a 5V step input.  First, find the transfer function of the circuit\n",
    "\n",
    "$$G(s) = \\frac{V_{out}(s)}{V_{in}(s)}$$\n",
    "\n",
    "We found the transfer function in lecture.  Verify the transfer\n",
    "function we found in lecture using Kirchoff's laws, Ohm's law, and the\n",
    "voltage/current relationship of a capacitor.  Once you have verified\n",
    "the transfer function, write a function that finds the step response\n",
    "with a 5V input.  You ought to be able to modify code from lab 1 to\n",
    "create the function you need for curve fitting.\n"
   ]
  },
  {
   "cell_type": "markdown",
   "metadata": {},
   "source": [
    "## optimize.fmin Example"
   ]
  },
  {
   "cell_type": "markdown",
   "metadata": {},
   "source": [
    "A Jupyter notebook example has been created to introduce curve fitting in Python based on the function `scipy.optimize.fmin`.  The example requires a `csv` data file.  The notebook and the example (fake) data file are in a subfolder called `helper_notebooks` under that lab 2 git folder.\n",
    "\n",
    "### Curve Fitting Tips\n",
    "\n",
    "In order to fit a curve to the step response using `optimize.fmin`, you need a function that takes the unknown transfer function coefficients (i.e. $p$ in this case) and returns the step response.  This is very similar to what we did in lab 1 except that we need to find the step response at the same points in time where we have experimental data.  There are two options for doing this:\n",
    "\n",
    "1. Solve the step response symbolically with $p$ as a variable and then just have your `mymodel` function use that symbolic expression\n",
    "2. Pass in your time array as the second input to `control.step_response`\n",
    "\n",
    "Option 2 is in some ways easier but comes with one additional\n",
    "challenge: `control.step_response` expects the time vector to have\n",
    "perfect time steps that are exactly the same.  Essentially, it is expecting that your time vector was created using `np.arange`.  So, you need to find a way to create a fake, perfect time vector that is as close as possible to your real, experimental time vector.  Find the average time step `dt` from your experimental time vector and use it along with `np.arange` to create a fake time vector that has the same length as the experimental time vector.\n",
    "\n",
    "Note that in Python, functions always have read-only access to all of\n",
    "the variables in the notebook or Python file where they reside.  So,\n",
    "you need to pass your fake time vector as a second input to\n",
    "`control.step_response`, but it does not need to be an input to the\n",
    "`mymodel` function.  All you need to do is define the fake time vector\n",
    "somewhere in the notebook.  The only input to `mymodel` should be a\n",
    "list of unknown coefficients, `[p]`.\n"
   ]
  },
  {
   "cell_type": "markdown",
   "metadata": {},
   "source": [
    "## Step Response Simulation"
   ]
  },
  {
   "cell_type": "markdown",
   "metadata": {},
   "source": [
    "You are required to compare your experimental results to a simulation\n",
    "of the step response using either `control.step_response` or\n",
    "`control.forced_response` from the Python `control` module.  You will\n",
    "need the transfer function of the system to do this.  To show your\n",
    "results, overlay data from your experimental step response on the same\n",
    "plot as simulation results based on your optimized coefficient values.\n",
    "Also, verify that the step response from the `control` module agrees with\n",
    "your derivation for $v_{out}(t)$ for the step input.\n"
   ]
  },
  {
   "cell_type": "markdown",
   "metadata": {},
   "source": [
    "# Comprehension Questions"
   ]
  },
  {
   "cell_type": "markdown",
   "metadata": {},
   "source": [
    "### CQ1: step response\n",
    "\n",
    "What steps are necessary to perform step response analysis \"by hand\"?  How do you do the same steps using Python to verify your answer?"
   ]
  },
  {
   "cell_type": "markdown",
   "metadata": {},
   "source": [
    "### CQ2: optimize.fmin"
   ]
  },
  {
   "cell_type": "markdown",
   "metadata": {},
   "source": [
    "What does `optimze.fmin` actually do?  What is the scalar value returned by the cost function?  "
   ]
  }
 ],
 "metadata": {
  "kernelspec": {
   "display_name": "Python 3 (ipykernel)",
   "language": "python",
   "name": "python3"
  },
  "language_info": {
   "codemirror_mode": {
    "name": "ipython",
    "version": 3
   },
   "file_extension": ".py",
   "mimetype": "text/x-python",
   "name": "python",
   "nbconvert_exporter": "python",
   "pygments_lexer": "ipython3",
   "version": "3.12.4"
  }
 },
 "nbformat": 4,
 "nbformat_minor": 4
}
