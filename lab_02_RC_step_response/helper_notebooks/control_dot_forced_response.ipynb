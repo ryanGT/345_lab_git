{
 "cells": [
  {
   "cell_type": "code",
   "execution_count": 1,
   "id": "altered-arlington",
   "metadata": {},
   "outputs": [],
   "source": [
    "%matplotlib inline\n",
    "import matplotlib.pyplot as plt\n",
    "import numpy as np\n",
    "import control\n",
    "from numpy import sin, cos, tan, pi\n",
    "from control import TransferFunction as TF"
   ]
  },
  {
   "cell_type": "code",
   "execution_count": 19,
   "id": "atmospheric-bones",
   "metadata": {},
   "outputs": [],
   "source": [
    "plt.rcParams['font.size'] = 14"
   ]
  },
  {
   "cell_type": "markdown",
   "id": "executed-character",
   "metadata": {},
   "source": [
    "## `control.step_response`\n",
    "\n",
    "`control.step_response` assumes that the input to the system is a step of amplitude 1 (sometimes called a unit step) that switches on at `t=0`\n",
    "\n",
    "- for the RC filter lab, the amplitude is not 1 and it did not switch on at `t=0`"
   ]
  },
  {
   "cell_type": "code",
   "execution_count": 11,
   "id": "eight-basket",
   "metadata": {},
   "outputs": [],
   "source": [
    "p = 2\n",
    "t = np.arange(0,5,0.01)"
   ]
  },
  {
   "cell_type": "code",
   "execution_count": 12,
   "id": "revised-spank",
   "metadata": {},
   "outputs": [
    {
     "data": {
      "text/latex": [
       "$$\\frac{2}{s + 2}$$"
      ],
      "text/plain": [
       "TransferFunction(array([2]), array([1, 2]))"
      ]
     },
     "execution_count": 12,
     "metadata": {},
     "output_type": "execute_result"
    }
   ],
   "source": [
    "G = TF(p,[1,p])\n",
    "G"
   ]
  },
  {
   "cell_type": "code",
   "execution_count": 13,
   "id": "surprised-phenomenon",
   "metadata": {},
   "outputs": [],
   "source": [
    "to, ystep = control.step_response(G,t)"
   ]
  },
  {
   "cell_type": "code",
   "execution_count": 14,
   "id": "limiting-weekend",
   "metadata": {},
   "outputs": [
    {
     "data": {
      "text/plain": [
       "[<matplotlib.lines.Line2D at 0x13051b040>]"
      ]
     },
     "execution_count": 14,
     "metadata": {},
     "output_type": "execute_result"
    },
    {
     "data": {
      "image/png": "[encoded data removed]",
      "text/plain": [
       "<Figure size 432x288 with 1 Axes>"
      ]
     },
     "metadata": {
      "needs_background": "light"
     },
     "output_type": "display_data"
    }
   ],
   "source": [
    "plt.figure()\n",
    "plt.plot(t,ystep)"
   ]
  },
  {
   "cell_type": "markdown",
   "id": "respiratory-effect",
   "metadata": {},
   "source": [
    "## `control.forced_response`\n",
    "\n",
    "`control.forced_response` allows the users to specify the input to the TF.  This input is called `U` in the help documentation.\n",
    "\n",
    "- set `U` equal to the input to the plant, which is the output of the step input block\n",
    "    - `u` should be the same as `vin`, which should be the middle column of your csv file\n",
    "- pass in `u` to `control.forced_response` as the third input:"
   ]
  },
  {
   "cell_type": "code",
   "execution_count": 15,
   "id": "fewer-journalist",
   "metadata": {},
   "outputs": [],
   "source": [
    "N = len(t)\n",
    "u = np.zeros(N)\n",
    "u[50:] = 7"
   ]
  },
  {
   "cell_type": "code",
   "execution_count": 17,
   "id": "atomic-transaction",
   "metadata": {},
   "outputs": [],
   "source": [
    "to, y2 = control.forced_response(G,t,u)"
   ]
  },
  {
   "cell_type": "code",
   "execution_count": 18,
   "id": "correct-loading",
   "metadata": {},
   "outputs": [
    {
     "data": {
      "text/plain": [
       "[<matplotlib.lines.Line2D at 0x130316520>,\n",
       " <matplotlib.lines.Line2D at 0x130316550>]"
      ]
     },
     "execution_count": 18,
     "metadata": {},
     "output_type": "execute_result"
    },
    {
     "data": {
      "image/png": "[encoded data removed]",
      "text/plain": [
       "<Figure size 432x288 with 1 Axes>"
      ]
     },
     "metadata": {
      "needs_background": "light"
     },
     "output_type": "display_data"
    }
   ],
   "source": [
    "plt.figure()\n",
    "plt.plot(t,u,t,y2)"
   ]
  },
  {
   "cell_type": "code",
   "execution_count": null,
   "id": "coastal-sellers",
   "metadata": {},
   "outputs": [],
   "source": []
  }
 ],
 "metadata": {
  "kernelspec": {
   "display_name": "Python 3",
   "language": "python",
   "name": "python3"
  },
  "language_info": {
   "codemirror_mode": {
    "name": "ipython",
    "version": 3
   },
   "file_extension": ".py",
   "mimetype": "text/x-python",
   "name": "python",
   "nbconvert_exporter": "python",
   "pygments_lexer": "ipython3",
   "version": "3.9.13"
  }
 },
 "nbformat": 4,
 "nbformat_minor": 5
}
