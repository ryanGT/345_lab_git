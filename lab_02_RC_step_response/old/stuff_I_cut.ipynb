{
 "cells": [
  {
   "cell_type": "markdown",
   "id": "927e97dd-078b-443a-93b4-a6256962687d",
   "metadata": {},
   "source": [
    "## Basic Git usage\n",
    "\n",
    "We will use git as a way for me to get the template files and lab procedures.  Each Raspberry Pi should already have a clone of the `345_lab_git` repo.  To get to this repo, open a terminal and type the command `cd 345_lab_git`.  Note that you can use tab completion by typing `cd 345` and then hitting tab.  Once you are in the `345_lab_git` folder, type the command \n",
    "\n",
    "`git pull origin main`\n",
    "\n",
    "Also note that this command is in the command history.  You can type part of a command and then hit the up arrow to search the command history.  So, typing `git pull` and then hitting the up arrow should get you the command.\n",
    "\n",
    "The `345_lab_git` folder is for me to deliver files to you.  You should leave the Arduino templates in this folder and you should view the lab procedures from this folder.  \n",
    "\n",
    "- But you should **not** create any new files in the `345_lab_git` folder.  "
   ]
  }
 ],
 "metadata": {
  "kernelspec": {
   "display_name": "Python 3 (ipykernel)",
   "language": "python",
   "name": "python3"
  },
  "language_info": {
   "codemirror_mode": {
    "name": "ipython",
    "version": 3
   },
   "file_extension": ".py",
   "mimetype": "text/x-python",
   "name": "python",
   "nbconvert_exporter": "python",
   "pygments_lexer": "ipython3",
   "version": "3.13.3"
  }
 },
 "nbformat": 4,
 "nbformat_minor": 5
}
