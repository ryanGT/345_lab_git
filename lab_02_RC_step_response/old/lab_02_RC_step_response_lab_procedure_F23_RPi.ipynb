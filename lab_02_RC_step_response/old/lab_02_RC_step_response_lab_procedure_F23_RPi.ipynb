{
 "cells": [
  {
   "cell_type": "markdown",
   "metadata": {},
   "source": [
    "# Lab 2: Step Response of an RC Circuit"
   ]
  },
  {
   "cell_type": "markdown",
   "metadata": {},
   "source": [
    "## Introduction"
   ]
  },
  {
   "cell_type": "markdown",
   "metadata": {},
   "source": [
    "This lab has three primary learning objectives:\n",
    "\n",
    "1. helping students learn how to perform real-time dynamic systems and\n",
    "   control experiments \n",
    "   - using a Raspberry Pi and Arduino together with i$^2$c\n",
    "   - using Dr. Krauss' `pybd_gui` and `py_block_diagram` modules\n",
    "2. helping students learn about transfer functions through\n",
    "   investigating the step response of an RC circuit\n",
    "3. helping students learn to curve fit data using `scipy.optimize.fmin`\n",
    "\n",
    "Throughout this course, we will use Arduino microcontrollers in conjunction with Python to run dynamic systems and control experiments.  \n",
    "\n",
    "An RC circuit is a fairly simple dynamic system and will be used in this lab to help students begin to think in terms of transfer functions.  The results of an experimental step response will be used to estimate transfer function coefficients.  Experimental results will then be compared to Python simulations.\n"
   ]
  },
  {
   "cell_type": "markdown",
   "metadata": {},
   "source": [
    "## Main Steps\n",
    "\n",
    "- disconnect your Raspberry Pi from the cart/pendulum system and connect it to a monitor and keyboard \n",
    "- update the software on your Raspberry Pi and learn basic linux commands\n",
    "- connect a Raspberry Pi to an Arduino using a level shifter and i$^2$c\n",
    "- build an RC circuit and connect it to the Arduino\n",
    "- learn to use `pybd_gui` to create a block diagram for your system and auto-generate the Raspberry Pi C++ code\n",
    "- program the Arduino using the code provided\n",
    "- overlay the experimental step response with the result of Laplace analysis \"by hand\" as well as simulation results using `control.step_response`\n",
    "- curve fit the experimental step response data to improve your estimate of the TF parameters"
   ]
  },
  {
   "cell_type": "markdown",
   "metadata": {},
   "source": [
    "## Part 1: Raspberry Pi prep, linux basics, and i$^2$c"
   ]
  },
  {
   "cell_type": "markdown",
   "metadata": {},
   "source": [
    "Most of the Raspberry Pi's are still attached to a cart/pendulum system from the end of last year's class.  Remove the red shield so that you can unscrew the RPi from the cart.  You will need to connect the RPi to a monitor using a mini-HDMI connection (HDMI0).  You will also need a USB-C power supply as well as a mouse and keyboard."
   ]
  },
  {
   "cell_type": "markdown",
   "metadata": {},
   "source": [
    "Once you have a monitor, mouse, and keyboard attached to your RPi, power it on with the USB-C power supply.  Verify that it boots up to a desktop environment."
   ]
  },
  {
   "cell_type": "markdown",
   "metadata": {},
   "source": [
    "### i$^2$c Connections"
   ]
  },
  {
   "cell_type": "markdown",
   "metadata": {},
   "source": [
    "A Raspberry Pi uses 3.3V while an Arduino Uno uses 5V.  **Never** connect any signal that can reach 5V directly to a Raspberry Pi.  Level shifters are custom circuits used to solve this problem.  The red shield contains a level shifter that connects to the i$^2$c pins on the Raspberry Pi:\n",
    "\n",
    "<img src=\"https://drive.google.com/uc?id=18BOzmnBxxeEuUiEn_v1lI4IMmTro6XkG\" width=500px>"
   ]
  },
  {
   "cell_type": "markdown",
   "metadata": {},
   "source": [
    "i$^2$c is a communication protocol used between micro-controllers or other electronic devices.  The communication is mainly handled using one wire for data (`SDA`) and one for the clock (`SCL`).  A common ground (`GND`) is required and the level shifter needs 5V from the Arduino.  On an Arduino Uno, `SDA` is pin `A4` and `SCL` is `A5`.  You will also need to connect ground to your bread board for building your RC circuit."
   ]
  },
  {
   "cell_type": "markdown",
   "metadata": {},
   "source": [
    "## Linux Basics"
   ]
  },
  {
   "cell_type": "markdown",
   "metadata": {},
   "source": [
    "You can sort of operate a Raspberry Pi using a mouse, but it will ultimately slow you down and limit your learning.  The terminal is your friend.  Open a terminal by clicking on the black rectangle icon near the Raspberry Pi logo in the top left of your screen.\n",
    "\n",
    "A Jupyter notebook explaining [basic linux](basic_linux_commands.ipynb) commands is in the Lab 2 folder.  You can launch the Jupyter notebook server on a Raspberry Pi using the command `jupyter-notebook`."
   ]
  },
  {
   "cell_type": "markdown",
   "metadata": {},
   "source": [
    "You probably want to create a folder for your team to work in using the command `mkdir`."
   ]
  },
  {
   "cell_type": "markdown",
   "metadata": {},
   "source": [
    "## Software Update"
   ]
  },
  {
   "cell_type": "markdown",
   "metadata": {},
   "source": [
    "At the start of nearly every lab, you will need to do at least the following two commands to get the most recent lab files:\n",
    "\n",
    "`cd 345_lab_git`\n",
    "\n",
    "`git pull origin main`\n",
    "\n",
    "The first command changes the working directory to the folder `345_lab_git`.  The second command is the magical incantation to retrieve the latest code from the 345 lab cloud repository on `github.com`.\n",
    "\n",
    "Most weeks you will also need to start by running a script that updates the lab software.  The command for this week is `sw_update_lab_2.sh`.\n",
    "\n",
    "Keep in mind that you can use tab completion on most commands and you can also type part of a command and use the up arrow to search for a match in the command history.\n",
    "\n",
    "Once you have run this week's update script, check the version of your install software using the command \n",
    "\n",
    "`check_pip_versions.py`\n",
    "\n",
    "Dr. Krauss will tell you what the correct latest version numbers are."
   ]
  },
  {
   "cell_type": "markdown",
   "metadata": {},
   "source": [
    "## Treat `345_lab_git` as read only\n",
    "\n",
    "This is how you get code from me.  Do your work in your own folder.  Use the command `cp` to copy files to your folder if you want to do that."
   ]
  },
  {
   "cell_type": "markdown",
   "metadata": {},
   "source": [
    "## Part 2: RC Step Response"
   ]
  },
  {
   "cell_type": "markdown",
   "metadata": {},
   "source": [
    "### `pybd_gui` demo"
   ]
  },
  {
   "cell_type": "markdown",
   "metadata": {},
   "source": [
    "**Key Ideas:**\n",
    "\n",
    "- you have to create an actuator and a sensor before you can create a plant\n",
    "    - we will use `i2c_actuator`, `i2c_sensor`, and `i2c_plant` for this week's lab\n",
    "- creating a block is separate from placing it on the block diagram\n",
    "    - you should have one absolute block placement and the rest should be relative\n",
    "- you must specify which blocks or sensors print their output to the data file\n",
    "    - if you accidentally skip this, the data file will contain only the loop count variable and the time in milliseconds\n",
    "- when you are ready to generate the RPi code, you have to specify the output file path and then generate the code\n",
    "    - the input template path should be set for you automatically"
   ]
  },
  {
   "cell_type": "markdown",
   "metadata": {},
   "source": [
    "### compiling RPi C code\n",
    "\n",
    "I have create a custom script that compiles and links the auto-generated C code (technically it is C++).  The script is called `rpidb_build.py` and it takes the name of your file as its only input:\n",
    "\n",
    "`rpibd_build.py filename.c`\n",
    "\n",
    "This should create a file called `filename.o` that is executable.  Run this code from the terminal using the command\n",
    "\n",
    "`./filename.o`\n",
    "\n",
    "where `./` just specifies that you mean the current folder."
   ]
  },
  {
   "cell_type": "markdown",
   "metadata": {},
   "source": [
    "## Arduino Code"
   ]
  },
  {
   "cell_type": "markdown",
   "metadata": {},
   "source": [
    "In order for this lab to work, you have to make sure the Arduino is running the correct code.  The code should be in a folder called `arduino_i2c_siso_RC_circuit`.  You can launch the Arduino software on the RPi using the terminal command `arduino`."
   ]
  },
  {
   "cell_type": "markdown",
   "metadata": {},
   "source": [
    "## Step Response Testing"
   ]
  },
  {
   "cell_type": "markdown",
   "metadata": {},
   "source": [
    "<img src=\"https://drive.google.com/uc?id=1RGNnAZyAhFgZZgN11-3Tfen_nabwZ6uQ\" width=400px>\n",
    "\n",
    "A schematic of an RC filter is shown above.\n",
    "In order to run a step response test, you will need to modify the\n",
    "Python code from Part 1 to communicate with the Arduino over serial.\n"
   ]
  },
  {
   "cell_type": "markdown",
   "metadata": {},
   "source": [
    "## Saving Your Data"
   ]
  },
  {
   "cell_type": "markdown",
   "metadata": {},
   "source": [
    "Once you have successfully run an RC step response test, save that data to a CSV file before you start curve fitting.  This will allow you to work on curve fitting without having to have your Arduino attached and running a new test each time.\n",
    "\n",
    "The Raspberry Pi code should automatically save the most recent data to a file called `data.txt`.  Copy this file to your laptop to work on the rest of the lab (unless you want to curve fit on the Raspberry Pi).\n",
    "\n",
    "You will know you have done this correctly if you can use `np.loadtxt` to load the data into Python and plot it like you did in lab 1.\n"
   ]
  },
  {
   "cell_type": "markdown",
   "metadata": {},
   "source": [
    "## Curve Fitting"
   ]
  },
  {
   "cell_type": "markdown",
   "metadata": {},
   "source": [
    "Once you have the step response data, use `scipy.optimize.fmin` to\n",
    "curve fit it.  In order to do this, you will need to create a function that returns $v_{out}$ for a 5V step input.  First, find the transfer function of the circuit\n",
    "\n",
    "$$G(s) = \\frac{V_{out}(s)}{V_{in}(s)}$$\n",
    "\n",
    "We found the transfer function in lecture.  Verify the transfer\n",
    "function we found in lecture using Kirchoff's laws, Ohm's law, and the\n",
    "voltage/current relationship of a capacitor.  Once you have verified\n",
    "the transfer function, write a function that finds the step response\n",
    "with a 5V input.  You ought to be able to modify code from lab 1 to\n",
    "create the function you need for curve fitting.\n"
   ]
  },
  {
   "cell_type": "markdown",
   "metadata": {},
   "source": [
    "## optimize.fmin Example"
   ]
  },
  {
   "cell_type": "markdown",
   "metadata": {},
   "source": [
    "A Jupyter notebook example has been created to introduce curve fitting in Python based on the function `scipy.optimize.fmin`.  The example requires a `csv` data file.\n",
    "\n",
    "The Jupyter notebook and csv file are in the lab 2 folder.\n",
    "\n",
    "### Curve Fitting Tips\n",
    "\n",
    "In order to fit a curve to the step response using `optimize.fmin`, you need a function that takes the unknown transfer function coefficients (i.e. $p$ in this case) and returns the step response.  This is very similar to what we did in lab 1 except that we need to find the step response at the same points in time where we have experimental data.  There are two options for doing this:\n",
    "\n",
    "1. Solve the step response symbolically with $p$ as a variable and then just have your `mymodel` function use that symbolic expression\n",
    "2. Pass in your time array as the second input to `control.step_response`\n",
    "\n",
    "Option 2 is in some ways easier but comes with one additional\n",
    "challenge: `control.step_response` expects the time vector to have\n",
    "perfect time steps that are exactly the same.  Essentially, it is expecting that your time vector was created using `np.arange`.  So, you need to find a way to create a fake, perfect time vector that is as close as possible to your real, experimental time vector.  Find the average time step `dt` from your experimental time vector and use it along with `np.arange` to create a fake time vector that has the same length as the experimental time vector.\n",
    "\n",
    "Note that in Python, functions always have read-only access to all of\n",
    "the variables in the notebook or Python file where they reside.  So,\n",
    "you need to pass your fake time vector as a second input to\n",
    "`control.step_response`, but it does not need to be an input to the\n",
    "`mymodel` function.  All you need to do is define the fake time vector\n",
    "somewhere in the notebook.  The only input to `mymodel` should be a\n",
    "list of unknown coefficients, `[p]`.\n"
   ]
  },
  {
   "cell_type": "markdown",
   "metadata": {},
   "source": [
    "## Step Response Simulation"
   ]
  },
  {
   "cell_type": "markdown",
   "metadata": {},
   "source": [
    "You are required to compare your experimental results to a simulation\n",
    "of the step response using either `control.step_response` or\n",
    "`control.forced_response` from the Python `control` module.  You will\n",
    "need the transfer function of the system to do this.  To show your\n",
    "results, overlay data from your experimental step response on the same\n",
    "plot as simulation results based on your optimized coefficient values.\n",
    "Also, verify that the step response from the `control` module agrees with\n",
    "your derivation for $v_{out}(t)$ for the step input.\n"
   ]
  },
  {
   "cell_type": "markdown",
   "metadata": {},
   "source": [
    "# Comprehension Questions"
   ]
  },
  {
   "cell_type": "markdown",
   "metadata": {},
   "source": [
    "### CQ1: step response\n",
    "\n",
    "What steps are necessary to perform step response analysis \"by hand\"?  How do you do the same steps using Python to verify your answer?"
   ]
  },
  {
   "cell_type": "markdown",
   "metadata": {},
   "source": [
    "### CQ2: optimize.fmin"
   ]
  },
  {
   "cell_type": "markdown",
   "metadata": {},
   "source": [
    "What does `optimze.fmin` actually do?  What is the scalar value returned by the cost function?  "
   ]
  }
 ],
 "metadata": {
  "kernelspec": {
   "display_name": "Python 3 (ipykernel)",
   "language": "python",
   "name": "python3"
  },
  "language_info": {
   "codemirror_mode": {
    "name": "ipython",
    "version": 3
   },
   "file_extension": ".py",
   "mimetype": "text/x-python",
   "name": "python",
   "nbconvert_exporter": "python",
   "pygments_lexer": "ipython3",
   "version": "3.12.4"
  }
 },
 "nbformat": 4,
 "nbformat_minor": 4
}
