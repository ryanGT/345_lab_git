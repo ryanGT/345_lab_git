{
 "cells": [
  {
   "cell_type": "markdown",
   "id": "knowing-current",
   "metadata": {},
   "source": [
    "# Basic Linux Commands"
   ]
  },
  {
   "cell_type": "markdown",
   "id": "delayed-witness",
   "metadata": {},
   "source": [
    "The main commands you need to learn to succeed in the Robolympics project are `cd`, `ls`, `cp`, and `pwd` along with the main `git` command: `git pull origin main`."
   ]
  },
  {
   "cell_type": "markdown",
   "id": "boolean-missouri",
   "metadata": {},
   "source": [
    "## `cd`\n",
    "\n",
    "`cd` means change directory.  There are several forms we could use:\n",
    "\n",
    "- `cd 345_lab_git`\n",
    "    - `cd` followed by the name of a folder changes the directory into the folder\n",
    "- `cd` \n",
    "    - `cd` by itself takes you to your `home` folder\n",
    "        - since your username is `pi`, your home folder is `/home/pi`\n",
    "- `cd ..`\n",
    "    - `..` means one level up, so this command takes you up one folder in the tree\n",
    "    - if you were in `/home/pi/folder1/subfolder1`, this command would take you \"up\"\n",
    "      to `/home/pi/folder1`\n",
    "- `cd ~/345_lab_git`\n",
    "    - '~' is a short-cut for your home folder, so this command would take you to `/home/pi/345_lab_git`\n",
    "        - `cd 345_lab_git` only works correctly if you are already in your `home` folder\n",
    "        - `cd ~/345_lab_git` would work from anywhere"
   ]
  },
  {
   "cell_type": "markdown",
   "id": "cognitive-consumer",
   "metadata": {},
   "source": [
    "## `ls`\n",
    "\n",
    "`ls` means list the contents of the current folder.  There are many optional flags and one optional argument.\n",
    "\n",
    "Here are some different we could use `ls`:\n",
    "\n",
    "- `ls`\n",
    "    - by itself, `ls` prints our the names of all the visible files and folders in the current directory\n",
    "- `ls -a`\n",
    "    - show all of the contents of the current folder, including hidden items\n",
    "        - in Linux, any folder or filename that starts with a period `.` is hidden\n",
    "            - `.git` is a hidden folder in all git repos\n",
    "- `ls *.c`\n",
    "    - show all `.c` files in the current folder\n",
    "    - `*` is the wild card character that can match any number of characters\n",
    "        - `*` can also match zero characters\n",
    "- `ls -alh`\n",
    "    - list the contents of the current folder showing *all* files and folders in a *long*, *human-readable* format\n",
    "    - `-alh` is the most common flag I use\n",
    "- `ls -alh *.c`\n",
    "    - show all `.c` files in a long, human-readable format\n",
    "    - this is how you check the modification or creation time stamp for all `.c` files"
   ]
  },
  {
   "cell_type": "markdown",
   "id": "front-spending",
   "metadata": {},
   "source": [
    "## `cp`"
   ]
  },
  {
   "cell_type": "markdown",
   "id": "prepared-start",
   "metadata": {},
   "source": [
    "The `cp` command copies a file:\n",
    "\n",
    "`cp old_file.c new_file.c`"
   ]
  },
  {
   "cell_type": "markdown",
   "id": "geological-latter",
   "metadata": {},
   "source": [
    "This can be used to create a new file with a different name in the same folder or to copy the file to a different folder:\n",
    "\n",
    "`cp source.c ~/myfolder/destination.c`"
   ]
  },
  {
   "cell_type": "markdown",
   "id": "brown-partner",
   "metadata": {},
   "source": [
    "## `pwd`\n",
    "\n",
    "- `pwd` means print working directory\n",
    "    - tell me where I am in the file structure\n",
    "    - what folder am I currently in?"
   ]
  },
  {
   "cell_type": "markdown",
   "id": "technical-covering",
   "metadata": {},
   "source": [
    "## main `git` command\n",
    "\n",
    "The main `git` command used in this class is\n",
    "\n",
    "`git pull origin main`\n",
    "\n",
    "In `git` terminology, pulling means retrieving the latest files and other changes from the server.  The opposite is called pushing and that refers to uploading changes from my computer to the server.\n",
    "\n",
    "`origin` refers to the internet location of the source repository.  `main` refers to the main branch of the repo."
   ]
  },
  {
   "cell_type": "markdown",
   "id": "hybrid-gazette",
   "metadata": {},
   "source": [
    "## At the start of lab each week\n",
    "\n",
    "At the start of lab each week, you will probably want to execute the following commands:\n",
    "\n",
    "`cd 345_lab_git`\n",
    "\n",
    "`git pull origin main`"
   ]
  },
  {
   "cell_type": "markdown",
   "id": "compressed-challenge",
   "metadata": {},
   "source": [
    "- you should only have to type the first few letters and then hit the up arrow to cycle through possible matching commands in your command history"
   ]
  },
  {
   "cell_type": "markdown",
   "id": "superb-michael",
   "metadata": {},
   "source": [
    "## Finding your IP address\n",
    "\n",
    "`ifconfig`\n",
    "\n",
    "All of the RPi static IP addresses in the 345 lab have the form `35.40.171.XXX`"
   ]
  },
  {
   "cell_type": "markdown",
   "id": "encouraging-aside",
   "metadata": {},
   "source": [
    "## Changing display setting\n",
    "\n",
    "`sudo raspi-config`"
   ]
  },
  {
   "cell_type": "markdown",
   "id": "found-gateway",
   "metadata": {},
   "source": [
    "## Dr. Krauss' lab shell scripts\n",
    "\n",
    "One powerful feature of linux is that you can write shell scripts that can be used like terminal commands.  I have written several scripts to help with the lab.\n",
    "\n",
    "### How to start the `wxbd_gui`:\n",
    "\n",
    "`launch_wxbd_gui.py`\n",
    "\n",
    "\n",
    "### Updating the gui:\n",
    "\n",
    "`upgrade_pybd_pip_stuff.sh`\n",
    "\n",
    "### Checking the versions of things from pip:\n",
    "\n",
    "`check_pip_versions.py`\n",
    "\n",
    "\n",
    "### A complete list of Dr. Krauss' shell and python scripts:\n",
    "\n",
    "You can find all of them in the folder `~/345_lab_git/scripts_345`.  You can also use the up arrow with nothing typed in to scroll through your entire command history."
   ]
  },
  {
   "cell_type": "code",
   "execution_count": null,
   "id": "dae65486",
   "metadata": {},
   "outputs": [],
   "source": []
  }
 ],
 "metadata": {
  "kernelspec": {
   "display_name": "Python 3 (ipykernel)",
   "language": "python",
   "name": "python3"
  },
  "language_info": {
   "codemirror_mode": {
    "name": "ipython",
    "version": 3
   },
   "file_extension": ".py",
   "mimetype": "text/x-python",
   "name": "python",
   "nbconvert_exporter": "python",
   "pygments_lexer": "ipython3",
   "version": "3.11.2"
  }
 },
 "nbformat": 4,
 "nbformat_minor": 5
}
