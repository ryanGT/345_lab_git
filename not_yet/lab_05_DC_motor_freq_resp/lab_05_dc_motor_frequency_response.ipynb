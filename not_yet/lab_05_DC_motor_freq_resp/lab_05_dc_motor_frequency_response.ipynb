{
 "cells": [
  {
   "cell_type": "markdown",
   "id": "spectacular-flashing",
   "metadata": {},
   "source": [
    "# Lab 5: DC Motor Frequency Response\n",
    "\n",
    "## Introduction\n",
    "\n",
    "Your team should have found the open loop transfer function of your DC\n",
    "motor system in a previous lab.  In this lab, you will perform frequency response\n",
    "tests for your DC motor.  Because a DC motor is not open-loop stable, you will need to \n",
    "place your DC motor under feedback control before giving it sinusoidal inputs. \n",
    "\n"
   ]
  },
  {
   "cell_type": "markdown",
   "id": "6bb43594-26f5-4993-b2b0-0ce37438a91c",
   "metadata": {},
   "source": [
    "<a id='sw_update'></a>\n",
    "\n",
    "## Software Update\n",
    "\n",
    "Once again, I need you to upgrade my Python pacakges.  I was able to recreate not being able to replace a block and I think it is fixed.\n",
    "\n",
    "Please upgrade `wxbd_gui` and `py_block_diagram`:\n",
    "\n",
    "- Windows (anaconda prompt):\n",
    "    - `pip install --upgrade wxbd_gui`\n",
    "    - `pip install --upgrade py_block_diagram`\n",
    "- Mac/Linex (terminal):\n",
    "    - `pip3 install --upgrade wxbd_gui`\n",
    "    - `pip3 install --upgrade py_block_diagram`\n",
    "\n",
    "#### Version Numbers\n",
    "\n",
    "The current software versions are:\n",
    "\n",
    "- `wxbd_gui`: 1.0.9\n",
    "- `py_block_diagram`: 1.5.2"
   ]
  },
  {
   "cell_type": "markdown",
   "id": "reliable-bhutan",
   "metadata": {},
   "source": [
    "## Verification of Open-Loop Results\n",
    "\n",
    "There are two things that your team was supposed to finish in Lab 3\n",
    "that are essential to this week's lab.  Your team must\n",
    "\n",
    "1. be able to run open-loop pulse tests with correct signs using your\n",
    "   Arduino\n",
    "2. have the open-loop transfer function of the DC motor system\n",
    "\n",
    "### Important Sign Check\n",
    "\n",
    "You cannot successfully complete this lab unless your system is setup\n",
    "so that a positive input to your motor h-bridge results in\n",
    "positive change in your encoder output, as shown in the figure below.\n",
    "Verify that for an open-loop pulse test, positive\n",
    "commands lead to positive increases in the encoder output and negative\n",
    "commands lead to decreasing encoder output.\n",
    "\n",
    "- you should re-do an open-loop pulse test just to be sure everything is working correctly\n",
    "\n"
   ]
  },
  {
   "cell_type": "markdown",
   "id": "hydraulic-making",
   "metadata": {},
   "source": [
    "<img src=\"figs/ol_pulse_sign_check.jpeg\" width=500px>"
   ]
  },
  {
   "cell_type": "markdown",
   "id": "secret-tower",
   "metadata": {},
   "source": [
    "## Learning Objectives\n",
    "\n",
    "Students will\n",
    "\n",
    "- implement feedback control using the `wxbd_gui` approach\n",
    "- perform fixed sine and swept sine tests on a DC motor\n",
    "- generate a Bode plot for a DC motor\n",
    "    - overlaying fixed sine Bode points on the swept sine Bode plot\n",
    "- compare the swept sine experimental Bode plot with a Bode plot from the transfer function found in a previous lab"
   ]
  },
  {
   "cell_type": "markdown",
   "id": "varied-sampling",
   "metadata": {},
   "source": [
    "## Closed-Loop Block Diagram"
   ]
  },
  {
   "cell_type": "markdown",
   "id": "parliamentary-albert",
   "metadata": {},
   "source": [
    "In order to conduct frequency response tests for the DC motor, we need to place the motor under feedback control.  Just like in the previous lab where we used the DC motor, the actuator is an H-bridge and the sensor is an encoder.  \n",
    "\n",
    "### Blocks needed for this lab\n",
    "\n",
    "You will need the following blocks for this weeks lab:\n",
    "\n",
    "- fixed sine input block\n",
    "- summing junction\n",
    "- PD controller\n",
    "- saturation block\n",
    "- plant\n",
    "\n",
    "**Note:** The summing junction is *not* just an addition block.  The bottom input is negative and the assumption is that its second input will have a feedback wire. \n",
    "\n",
    "The saturation block is needed in case the PD controller asks for a PWM input outside the rage $\\pm255$.\n",
    "\n",
    "\n",
    "The motor will be placed under PD control with a saturation block as shown in this block diagram:\n",
    "\n",
    "<img src=\"figs/cl_bd_wx.png\" width=500px>\n",
    "\n",
    "\n",
    "\n",
    "The choices of $K_p$ and $K_d$ for $D(s)$ will impact your frequency response to some extent, but we have not yet covered how to design $D(s)$.  Try $K_p$ values between 5 and 10 and set $K_d=0.1$ for now.  It may be necessary to adjust $K_p$ for the swept sine tests."
   ]
  },
  {
   "cell_type": "markdown",
   "id": "occupational-atlanta",
   "metadata": {},
   "source": [
    "### Fixed Sine Frequencies\n",
    "\n",
    "Run an initial batch of fixed sine tests using frequencies of 0.5, 1, 2, 3, 5, and 7 Hz.  Verify that your data reaches steady-state.  At some point, you will need to estimate the magnitude ratio and phase for these fixed sine tests.\n",
    "\n",
    "## Swept Sine Testing"
   ]
  },
  {
   "cell_type": "markdown",
   "id": "external-contribution",
   "metadata": {},
   "source": [
    "Getting \"good\" swept sine data takes some trial and error along with tweaking the test parameters.  Parameters to vary include the swept sine amplitude and slope, $K_p$ and $K_d$, and `stop_t`.  You know the data is \"good\" when it leads to a \"good\" Bode plot.\n",
    "\n",
    "All Bode plots have noise at high frequencies."
   ]
  },
  {
   "cell_type": "markdown",
   "id": "1d742c7b-6197-42ec-8a00-cddf76a3c440",
   "metadata": {},
   "source": [
    "## Open-Loop and Closed-Loop Bode plots"
   ]
  },
  {
   "cell_type": "markdown",
   "id": "3dabf68c-740a-4850-ae90-cccf3cee5659",
   "metadata": {},
   "source": [
    "We must put the motor under feedback control in order to collect the swept sine data:"
   ]
  },
  {
   "cell_type": "markdown",
   "id": "080d84c5-9f1d-45f5-b3ac-6ef5192e39d8",
   "metadata": {},
   "source": [
    "<img src=\"figs/closed_loop_with_sat.jpg\" width=600px>"
   ]
  },
  {
   "cell_type": "markdown",
   "id": "86127b65-cb3c-4eeb-9f79-eb4b69ffe611",
   "metadata": {},
   "source": [
    "If we have data from all of the blocks above, then we can investigate the model by generating two different Bode plots:\n",
    "\n",
    "- $Y/V_{sat}$, which I would call the open-loop Bode plot\n",
    "- $Y/U$, which I would call the closed-loop Bode plot"
   ]
  },
  {
   "cell_type": "markdown",
   "id": "bcc8e5b2-18f7-4cac-8ff2-0f0aedbc3b48",
   "metadata": {},
   "source": [
    "The fixed sine Bode plots will be very ugly if we try to use $Y/V_{sat}$.  So, we will use $Y/U$ for fixed sine Bode.  Based on the swept-sine data, you will generate Bode plots for both $Y/V_{sat}$ and $Y/U$.  "
   ]
  },
  {
   "cell_type": "markdown",
   "id": "549db0e4-68a7-46cd-b2c9-cdbd9917a0ff",
   "metadata": {},
   "source": [
    "### Open-Loop Bode\n",
    "\n",
    "Here is the open-loop Bode plot for $Y/V_{sat}$:\n",
    "\n",
    "<img src=\"figs/y_vs_v_sat_bode.jpg\" width=600px>"
   ]
  },
  {
   "cell_type": "markdown",
   "id": "c66939ea-4775-49bc-a575-8155b33cb82a",
   "metadata": {},
   "source": [
    "The open-loop Bode plot is based on swept-sine data and the TF model from Lab 3."
   ]
  },
  {
   "cell_type": "markdown",
   "id": "ee003dd5-b550-4060-8020-4b93a6a1df2c",
   "metadata": {},
   "source": [
    "### Closed-Loop Bode\n",
    "\n",
    "In order to plot the closed-loop Bode plot from the model (based on the lab 3 TF), we need to find the closed-loop TF:\n",
    "\n",
    "$$\\textrm{CLTF} = \\frac{D(s) \\cdot G(s)}{1+D(s)\\cdot G(s)}$$"
   ]
  },
  {
   "cell_type": "markdown",
   "id": "d14f8fe1-fc10-4daa-8a12-604e73c71ad5",
   "metadata": {},
   "source": [
    "where $D(s)$ refers to the transfer function for the PD controller:\n",
    "\n",
    "$$D(s) = \\frac{K_d s + K_p}{1}$$"
   ]
  },
  {
   "cell_type": "markdown",
   "id": "99b3a542-63fb-4f59-8a62-9d6066d8e5bb",
   "metadata": {},
   "source": [
    "The python control module has a function called `control.feedback` to find the CLTF:\n",
    "\n",
    "```\n",
    "CLTF = control.feedback(D*G)\n",
    "```"
   ]
  },
  {
   "cell_type": "markdown",
   "id": "9a9d35aa-d8c3-4337-afe9-8b978a473fdc",
   "metadata": {},
   "source": [
    "Here are my closed-looped Bode plots for model and experimental data:\n",
    "\n",
    "<img src=\"figs/y_vs_u_cl_bode.jpg\" width=600px>"
   ]
  },
  {
   "cell_type": "markdown",
   "id": "5ac84a78-a99d-4754-8d98-7561bbc2ba03",
   "metadata": {},
   "source": [
    "Your closed-loop Bode plot should also include points from the fixed-sine tests."
   ]
  },
  {
   "cell_type": "markdown",
   "id": "related-sharp",
   "metadata": {},
   "source": [
    "## Final Bode Plots\n",
    "\n",
    "You will generate two Bode plots for this lab: \n",
    "\n",
    "- open-loop: $Y/V_{sat}$\n",
    "    - swept-sine data and model from lab 3\n",
    "- closed-loop: $Y/U$\n",
    "    - fixed-sine data\n",
    "    - swept-sine data\n",
    "    - CLTF model based on PD control and the plant model from lab 3\n",
    "\n",
    "The closed-loop Bode plot will include data points from the fixed sine tests.  Each fixed sine test gives a magnitude ratio and phase at one frequency.  Just like with the RC filter in last week's lab, your goal is to overlay Bode \n",
    "points from the fixed tests onto the swept sine Bode plot.  "
   ]
  },
  {
   "cell_type": "markdown",
   "id": "prescribed-course",
   "metadata": {},
   "source": [
    "## Comprehension Questions\n",
    "\n",
    "\n",
    "**CQ1:** How did you arrive at the final form for your transfer function?  What aspects of your Bode plot lead you to include certain terms in your TF?\n",
    "\n",
    "**CQ2:** What does a Bode plot represent?\n",
    "\n",
    "**CQ3:** When working with frequency response, what are magnitude ratio and phase shift?"
   ]
  },
  {
   "cell_type": "code",
   "execution_count": null,
   "id": "african-azerbaijan",
   "metadata": {},
   "outputs": [],
   "source": []
  }
 ],
 "metadata": {
  "kernelspec": {
   "display_name": "Python 3 (ipykernel)",
   "language": "python",
   "name": "python3"
  },
  "language_info": {
   "codemirror_mode": {
    "name": "ipython",
    "version": 3
   },
   "file_extension": ".py",
   "mimetype": "text/x-python",
   "name": "python",
   "nbconvert_exporter": "python",
   "pygments_lexer": "ipython3",
   "version": "3.12.5"
  }
 },
 "nbformat": 4,
 "nbformat_minor": 5
}
