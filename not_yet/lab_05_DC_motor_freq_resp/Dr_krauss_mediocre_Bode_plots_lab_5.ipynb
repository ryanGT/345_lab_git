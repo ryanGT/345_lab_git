{
 "cells": [
  {
   "cell_type": "markdown",
   "id": "598f6bdf-1be4-4770-a66d-0beaf6584977",
   "metadata": {},
   "source": [
    "# Dr. Krauss Lab 5 Quick Results Check"
   ]
  },
  {
   "cell_type": "markdown",
   "id": "752a9a70-821f-4973-b54b-65ebced57e59",
   "metadata": {},
   "source": [
    "## Lab 3 Optimized TF\n",
    "\n",
    "Your optimized TF from lab 3 should be approximately\n",
    "\n",
    "$$G(s) = \\frac{60}{s^2 + 5s}$$\n",
    "\n",
    "If yours is significantly different than this, something went wrong in lab 3.  If the $p$ in your denomninator is significantly smaller, perhaps you left your time vector in milliseconds while doing your optmization."
   ]
  },
  {
   "cell_type": "markdown",
   "id": "fefcb9c3-d4d5-43ac-94c5-d648eb0cac86",
   "metadata": {},
   "source": [
    "## Open-Loop and Closed-Loop Bode plots"
   ]
  },
  {
   "cell_type": "markdown",
   "id": "ebe9ef45-c6ce-4141-94fa-1507060f31f4",
   "metadata": {},
   "source": [
    "We must put the motor under feedback control in order to collect the swept sine data:"
   ]
  },
  {
   "cell_type": "markdown",
   "id": "07963d81-38ed-4396-8b05-0b001ac61295",
   "metadata": {},
   "source": [
    "<img src=\"figs/closed_loop_with_sat.jpg\" width=600px>"
   ]
  },
  {
   "cell_type": "markdown",
   "id": "05db5dbc-88ba-44f1-ae88-ccaec1dd9b81",
   "metadata": {},
   "source": [
    "If we have data from all of the blocks above, then we can investigate the model by generating two different Bode plots:\n",
    "\n",
    "- $Y/V_{sat}$, which I would call the open-loop Bode plot\n",
    "- $Y/U$, which I would call the closed-loop Bode plot"
   ]
  },
  {
   "cell_type": "markdown",
   "id": "7b1f474a-2d09-41ce-a5f6-5da08374c71a",
   "metadata": {},
   "source": [
    "### Open-Loop Bode\n",
    "\n",
    "Here is the open-loop Bode plot for $Y/V_{sat}$:\n",
    "\n",
    "<img src=\"figs/y_vs_v_sat_bode.jpg\" width=600px>"
   ]
  },
  {
   "cell_type": "markdown",
   "id": "fb4e08b2-b8cc-4204-9727-da5e704a31f5",
   "metadata": {},
   "source": [
    "### Closed-Loop Bode\n",
    "\n",
    "In order to plot the closed-loop Bode plot based on the lab 3 TF, we need to find the closed-loop TF:\n",
    "\n",
    "$$\\textrm{CLTF} = \\frac{D(s) \\cdot G(s)}{1+D(s)\\cdot G(s)}$$"
   ]
  },
  {
   "cell_type": "markdown",
   "id": "42fa427c-2665-4cf2-a005-15e4d7ef57f4",
   "metadata": {},
   "source": [
    "where $D(s)$ refers to the transfer function for the PD controller:\n",
    "\n",
    "$$D(s) = \\frac{K_d s + K_p}{1}$$"
   ]
  },
  {
   "cell_type": "markdown",
   "id": "40f3de56-e17e-42c3-8e26-5b5b9037ab9d",
   "metadata": {},
   "source": [
    "The python control module has a function called `control.feedback` to find the CLTF:\n",
    "\n",
    "```\n",
    "CLTF = control.feedback(D*G)\n",
    "```"
   ]
  },
  {
   "cell_type": "markdown",
   "id": "bf7a53b4-1abf-446d-bc93-7513c09eadf0",
   "metadata": {},
   "source": [
    "Here are my closed-looped Bode plots for model and experimental data:\n",
    "\n",
    "<img src=\"figs/y_vs_u_cl_bode.jpg\" width=600px>"
   ]
  },
  {
   "cell_type": "markdown",
   "id": "30ab0164-7033-43f9-b9ca-f0dbedf64c96",
   "metadata": {},
   "source": [
    "## Conclusion\n",
    "\n",
    "My Bode plot overlays are neither awesome nor terrible.  Hopefully yours are a bit closer to laying on top of one another.  Hopefully yours are not significantly worse than mine\n",
    "\n",
    "Hopefully this gives you a sanity check to verify that your Bode plots are ok."
   ]
  }
 ],
 "metadata": {
  "kernelspec": {
   "display_name": "Python 3 (ipykernel)",
   "language": "python",
   "name": "python3"
  },
  "language_info": {
   "codemirror_mode": {
    "name": "ipython",
    "version": 3
   },
   "file_extension": ".py",
   "mimetype": "text/x-python",
   "name": "python",
   "nbconvert_exporter": "python",
   "pygments_lexer": "ipython3",
   "version": "3.12.5"
  }
 },
 "nbformat": 4,
 "nbformat_minor": 5
}
