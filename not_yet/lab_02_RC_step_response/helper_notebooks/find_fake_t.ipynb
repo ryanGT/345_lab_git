{
 "cells": [
  {
   "cell_type": "markdown",
   "id": "single-theme",
   "metadata": {},
   "source": [
    "## Copy and paste as needed"
   ]
  },
  {
   "cell_type": "code",
   "execution_count": 1,
   "id": "portable-examination",
   "metadata": {},
   "outputs": [],
   "source": [
    "def find_fake_t(t):\n",
    "    N = len(t)\n",
    "    Tspan = t.max()-t.min()\n",
    "    dt = Tspan/(N-1)\n",
    "    nvect = np.arange(N)\n",
    "    fake_t = dt*nvect\n",
    "    return fake_t"
   ]
  },
  {
   "cell_type": "code",
   "execution_count": null,
   "id": "associate-watershed",
   "metadata": {},
   "outputs": [],
   "source": []
  }
 ],
 "metadata": {
  "kernelspec": {
   "display_name": "Python 3",
   "language": "python",
   "name": "python3"
  },
  "language_info": {
   "codemirror_mode": {
    "name": "ipython",
    "version": 3
   },
   "file_extension": ".py",
   "mimetype": "text/x-python",
   "name": "python",
   "nbconvert_exporter": "python",
   "pygments_lexer": "ipython3",
   "version": "3.9.13"
  }
 },
 "nbformat": 4,
 "nbformat_minor": 5
}
