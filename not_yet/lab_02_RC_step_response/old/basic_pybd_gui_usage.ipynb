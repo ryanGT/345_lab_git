{
 "cells": [
  {
   "cell_type": "markdown",
   "id": "comparative-pattern",
   "metadata": {},
   "source": [
    "## Block Diagram Creation using `pybd_gui`"
   ]
  },
  {
   "cell_type": "markdown",
   "id": "likely-comparison",
   "metadata": {},
   "source": [
    "### Create the input block (step, pulse, ...)"
   ]
  },
  {
   "cell_type": "markdown",
   "id": "indian-fighter",
   "metadata": {},
   "source": [
    "- add block\n",
    "    - `Add New Block` dialog should open\n",
    "    - `Block Category` should be `input`\n",
    "    - choose `step` or `pulse` (depending on the lab activity)\n",
    "    - accept the defaults"
   ]
  },
  {
   "cell_type": "markdown",
   "id": "modular-sauce",
   "metadata": {},
   "source": [
    "### Placing a block\n",
    "\n",
    "- creating the block is a separate step from placing it on the block diagram\n",
    "- after you have created a block, select it in the `Blocks` list\n",
    "- choose `Blocks --> Place Block`\n",
    "- the first block that you place should be located using Absolute reference\n",
    "    - accept the defaults to place it at (0,0)\n",
    "- later blocks will be place relative to other blocks"
   ]
  },
  {
   "cell_type": "markdown",
   "id": "studied-grove",
   "metadata": {},
   "source": [
    "## Creating an actuator and a senor\n",
    "\n",
    "#### Actuator\n",
    "\n",
    "- a plant block should have an actuator and a sensor\n",
    "- click the `Actuator` tab and then click `Add Actuator`\n",
    "- the `Add Actuator Dialog` should pop up\n",
    "- choose `i2c_actuator` and accept the defaults\n"
   ]
  },
  {
   "cell_type": "markdown",
   "id": "saving-chorus",
   "metadata": {},
   "source": [
    "#### Sensor\n",
    "\n",
    "- follow nearly the same steps to add an i$^2$c sensor\n",
    "- click the `Sensor` tab and then click `Add Sensor`\n",
    "- the `Add Sensor Dialog` should pop up\n",
    "- choose `i2c_sensor` and accept the defaults\n"
   ]
  },
  {
   "cell_type": "markdown",
   "id": "elder-abuse",
   "metadata": {},
   "source": [
    "### Creating an i$^2$c plant"
   ]
  },
  {
   "cell_type": "markdown",
   "id": "present-oliver",
   "metadata": {},
   "source": [
    "- once you have an i$^2$c actuator and sensor, you are ready to create the `i2c_plant`"
   ]
  },
  {
   "cell_type": "markdown",
   "id": "diverse-fluid",
   "metadata": {},
   "source": [
    "### Set the input for your plant\n",
    "\n",
    "- select the plant in the block list\n",
    "    - probably `G`\n",
    "- choose `Blocks --> Set Input(s)` from the menu\n",
    "- the `Input Chooser Dialog` should pop up\n",
    "- choose the input for your plant\n",
    "    - probably `U`"
   ]
  },
  {
   "cell_type": "markdown",
   "id": "welsh-lambda",
   "metadata": {},
   "source": [
    "## Once you have a block diagram\n",
    "\n",
    "- set your print blocks\n",
    "- set your RPi code output path\n",
    "- compile the code:\n",
    "    - `rpibd_build.py filename.c`\n",
    "- run the code:\n",
    "    - `./filename.o`"
   ]
  },
  {
   "cell_type": "code",
   "execution_count": null,
   "id": "regulated-pathology",
   "metadata": {},
   "outputs": [],
   "source": []
  }
 ],
 "metadata": {
  "kernelspec": {
   "display_name": "Python 3 (ipykernel)",
   "language": "python",
   "name": "python3"
  },
  "language_info": {
   "codemirror_mode": {
    "name": "ipython",
    "version": 3
   },
   "file_extension": ".py",
   "mimetype": "text/x-python",
   "name": "python",
   "nbconvert_exporter": "python",
   "pygments_lexer": "ipython3",
   "version": "3.12.4"
  }
 },
 "nbformat": 4,
 "nbformat_minor": 5
}
