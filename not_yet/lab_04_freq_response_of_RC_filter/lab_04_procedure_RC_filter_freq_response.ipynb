{
 "cells": [
  {
   "cell_type": "markdown",
   "metadata": {},
   "source": [
    "# Lab 4: Frequency Response of an RC Filter"
   ]
  },
  {
   "cell_type": "markdown",
   "metadata": {},
   "source": [
    "**Note:** This lab procedure is kind of long with some explanatory material.  I have added the table of contents below to help you navigate the document.  I have also added links in various places to jump back to the TOC: [back to TOC](#toc).\n",
    "\n",
    "**Note 2:** Processing the fixed sine data may take a little time.  You might want to process that data last to make sure you collect all of the data you need.\n",
    "\n",
    "<a id='toc'></a>\n",
    "\n",
    "## Table of Contents\n",
    "\n",
    "- [Introduction](#intro)\n",
    "- [software update](#sw_update)\n",
    "- [simulation of fixed sine input for an RC filter](#fixed_sim)\n",
    "- [experimental fixed sine testing](#fixed_exp)\n",
    "- [experimental swept sine testing](#swept_exp)\n",
    "- [Bode plot generation](#bode_gen)\n",
    "- [comprehension questions](#compq)"
   ]
  },
  {
   "cell_type": "markdown",
   "metadata": {},
   "source": [
    "<a id='intro'></a>\n",
    "\n",
    "## Introduction\n",
    "\n",
    "In dynamic systems, frequency response refers to investigating how a system will response to fixed sine inputs of various frequencies.  As the frequency of the input sine wave changes, the magnitude of the output and the phase difference between the input and output will also change. The results of frequency response testing over a wide range of frequencies can be shown on a Bode plot, which is a powerful tool for experimental system identification."
   ]
  },
  {
   "cell_type": "markdown",
   "metadata": {},
   "source": [
    "## Three Main Phases\n",
    "\n",
    "This lab consists of three main phases:\n",
    "\n",
    "- [simulation of fixed sine input for an RC filter](#fixed_sim)\n",
    "- [experimental fixed sine testing](#fixed_exp)\n",
    "- [experimental swept sine testing](#swept_exp)"
   ]
  },
  {
   "cell_type": "markdown",
   "metadata": {},
   "source": [
    "## Background\n",
    "\n",
    "If a sinusoidal input is given to a stable dynamic system, after transients die out the output will be a sine wave at the same frequency as the input.  However, the amplitude of the output may be larger or smaller than the amplitude of the input and there may be a phase difference between the two.  Plotting the magnitude ratio and the phase versus input frequency can tell us a lot about the system."
   ]
  },
  {
   "cell_type": "markdown",
   "metadata": {},
   "source": [
    "[back to TOC](#toc)"
   ]
  },
  {
   "cell_type": "markdown",
   "metadata": {},
   "source": [
    "<a id='sw_update'></a>\n",
    "\n",
    "## Software Update\n",
    "\n",
    "Please upgrade `wxbd_gui` and `py_block_diagram` to fix a few bugs and add column labels to the serial monitor data:\n",
    "\n",
    "- Windows (anaconda prompt):\n",
    "    - `pip install --upgrade wxbd_gui`\n",
    "    - `pip install --upgrade py_block_diagram`\n",
    "- Mac/Linex (terminal):\n",
    "    - `pip3 install --upgrade wxbd_gui`\n",
    "    - `pip3 install --upgrade py_block_diagram`"
   ]
  },
  {
   "cell_type": "markdown",
   "metadata": {},
   "source": [
    "<a id='fixed_sim'></a>\n",
    "\n",
    "## Fixed Sine Simulations\n",
    "\n",
    "In order to understand what data to expect from your experiments, first run a series of simulated fixed sine responses on an RC filter TF.  \n",
    "\n",
    "$$G(s) = \\frac{p}{s+p}$$\n",
    "\n",
    "Set `p = 5*2*pi` (i.e. 5 Hz) and then use `control.forced_response` to find the response to several different input frequencies:\n",
    "\n",
    "`u = np.sin(2*pi*f*t)` \n",
    "\n",
    "where `f = [1, 3, 5, 7, 10, 25]` Hz.  For each input frequency, plot the input and output on one plot:"
   ]
  },
  {
   "cell_type": "markdown",
   "metadata": {},
   "source": [
    "<img src=\"figs/steady_state_fixed_sine.png\" width=500px>"
   ]
  },
  {
   "cell_type": "markdown",
   "metadata": {},
   "source": [
    "### Fixed Sine Simulation Observations\n",
    "\n",
    "- What happens to the magnitude and phase as the input frequency increases?"
   ]
  },
  {
   "cell_type": "markdown",
   "metadata": {},
   "source": [
    "[back to TOC](#toc)"
   ]
  },
  {
   "cell_type": "markdown",
   "metadata": {},
   "source": [
    "<a id='fixed_exp'></a>\n",
    "\n",
    "## Fixed Sine Experiments"
   ]
  },
  {
   "cell_type": "markdown",
   "metadata": {},
   "source": [
    "PWM cannot support a negative duty cycle (i.e. on-time cannot be less than 0).  In order to perform sinusoidal testing, we will need to add an offset to shift the baseline to 2.5V (50% duty cycle).  This is done by creating an `int_constant_block` with a value of 128 and then adding this to the sinsoidal input like the one shown below:\n",
    "\n",
    "<img src=\"figs/block_diagram_fixed_sine_screenshot_F24.png\" width=500px>"
   ]
  },
  {
   "cell_type": "markdown",
   "metadata": {},
   "source": [
    "**Note:** By default, each new block that you create is placed to the right of the previous block.  If you want to place the fixed sine block below the constant block, use Block -> Edit Block Placement from the menu.  "
   ]
  },
  {
   "cell_type": "markdown",
   "metadata": {},
   "source": [
    "A `fixed_sine_input` block generates a sine wave signal with a fixed frequency:"
   ]
  },
  {
   "cell_type": "markdown",
   "metadata": {},
   "source": [
    "$$u(t) = A \\sin(2\\pi f t)$$\n",
    "\n",
    "where $A$ is an amplitude in counts and $f$ is the frequency in Hz."
   ]
  },
  {
   "cell_type": "markdown",
   "metadata": {},
   "source": [
    "Once you have the sinusoidal input, constant offset, and add blocks, the plant is the same as lab two woth `pwm_output` as the actuator and `analog_input` as the sensor."
   ]
  },
  {
   "cell_type": "markdown",
   "metadata": {},
   "source": [
    "### Arduino Code\n",
    "\n",
    "**Note:** The Arduino tempalte file has been updated to fasciliate labeling the columns of data printed to the serial monitor.  Please use the new tempplate `arduino_template1_rev_4.ino`.  It should be located in the top level of the git folder `345_lab_git`."
   ]
  },
  {
   "cell_type": "markdown",
   "metadata": {},
   "source": [
    "### Fixed Sine Data Collection\n",
    "\n",
    "Your goal is to save 6 fixed sine tests to csv files.  Each test is run at a different fixed sine frequency.  The frequencies you choose are based on a desired magnitude ratio and phase shift, which are defined in the next section.\n",
    "\n",
    "1. really low frequency\n",
    "    - magnitude ratio nearly 1\n",
    "    - minimal phase shift\n",
    "    - **make sure the really low frequency data looks good before collecting the rest of the data**\n",
    "        - you will need to shift and scale your output data because `analogRead` is 10 bit and `analogWrite` is 8 bit on an Arduino\n",
    "2. low frequency\n",
    "    - magnitude ratio slightly less than 1\n",
    "    - small amount of phase shift\n",
    "3. slightly below `p`\n",
    "    - magnitude ratio approximately 0.7\n",
    "4. slightly above `p`\n",
    "    - magnitude ratio approximately 0.5\n",
    "5. fairly high frequency\n",
    "    - magnitude ratio getting small\n",
    "    - phase shift of 70-80$^\\circ$\n",
    "6. pretty high frequency\n",
    "    - phase shift approaching 90$^\\circ$\n",
    "    \n",
    "**Note:** 50 Hz is about the maximum we can do with the Arduino settings."
   ]
  },
  {
   "cell_type": "markdown",
   "metadata": {},
   "source": [
    "### Fixed Sine Data Processing: Magnitude Ratio and Phase "
   ]
  },
  {
   "cell_type": "markdown",
   "metadata": {},
   "source": [
    "For each fixed sine input frequency, estimate the amplitude ratio and the phase difference.  The magintude ratio is the amplitude of the output sine wave divided by the amplitude of the input sine wave:\n",
    "\n",
    "$$Mag. \\; Ratio = \\frac{Amp_{out}}{Amp_{in}}$$"
   ]
  },
  {
   "cell_type": "markdown",
   "metadata": {},
   "source": [
    "<img src=\"figs/fixed_sine_annotated_data.png\" width=500px>"
   ]
  },
  {
   "cell_type": "markdown",
   "metadata": {},
   "source": [
    "Estimating the phase lag is slightly trickier.  You need to find the difference in peak times or zero crossing times between the input and ouput and then compare that to the period.  A full period is $360^\\circ$:\n",
    "\n",
    "$$phase = \\frac{T_{diff}}{T_{period}} \\cdot 360^\\circ$$"
   ]
  },
  {
   "cell_type": "markdown",
   "metadata": {},
   "source": [
    "where $T_{diff}$ is the difference in peak times or zero crossing times.  $T_{diff}$ is typically negative.  Here is a picture illustrating $T_{diff}$:\n",
    "\n",
    "<img src=\"figs/tdiff_fig.png\" width=500px>"
   ]
  },
  {
   "cell_type": "markdown",
   "metadata": {},
   "source": [
    "## Frequency Response Plot\n",
    "\n",
    "Plot your magnitude ratios and phases from the fixed sine data on two separate $y$ axes with frequency on the $x$ axis. "
   ]
  },
  {
   "cell_type": "markdown",
   "metadata": {},
   "source": [
    "[back to TOC](#toc)"
   ]
  },
  {
   "cell_type": "markdown",
   "metadata": {},
   "source": [
    "<a id='swept_exp'></a>\n",
    "\n",
    "## Experimental Swept Sine Testing"
   ]
  },
  {
   "cell_type": "markdown",
   "metadata": {},
   "source": [
    "### Generating a Swept Sine Input Signal\n",
    "\n",
    "Fixed sine inputs help us grow in our understanding of frequency response, but\n",
    "running tests at many fixed frequencies is time consuming.  In a fixed sine test\n",
    "\n",
    "$$u(t) = A \\sin(2 \\pi f t)$$\n",
    "\n",
    "where $f$ was a constant.\n",
    "\n",
    "In swept sine testing, $f$ is a function of time:\n",
    "\n",
    "$$f(t) = m t$$\n",
    "\n",
    "where $m$ is a slope based on the maximum desired frequency and the total time the test will be run:\n",
    "\n",
    "$$m = \\frac{f_{max}}{t_{max}}$$\n",
    "\n",
    "So, for a swept sine input:\n",
    "\n",
    "$$u_{ss}(t) = A \\sin(2 \\pi f(t) \\cdot t)$$\n",
    "\n",
    "Here is an example of a swept sine signal:\n",
    "\n",
    "<img src=\"figs/swept_sine_input.jpeg\" width=500px>\n"
   ]
  },
  {
   "cell_type": "markdown",
   "metadata": {},
   "source": [
    "### Running a Swept Sine Test"
   ]
  },
  {
   "cell_type": "markdown",
   "metadata": {},
   "source": [
    "The `wxbd_gui` should have a `swept_sine_input` block. The parameters for the block are the amplitude and the slope.  In order to easly change the parameters for the swept sine test, you may want to set some menu paramters.  Go to Sysmste -> Set Menu Params to specify which parameters you want the Arduino to ask for when you run a test.  `stop_t` is a global parameter that represents the total time a swept sine test should run.  Global parameters refer to parameters that do not belong to a specific block but to the system as a whole.  Note that it may take some trial and error to find \"good\" values for the slope of the swept sine block and `stop_t`.  Note that sometimes swept sine tests need to run for 10 seconds or more to get \"good\" data.  Examples of good and bad data are in the next section."
   ]
  },
  {
   "cell_type": "markdown",
   "metadata": {},
   "source": [
    "### Possible Issues in Swept Sine Testing\n",
    "\n",
    "#### Picking a \"good\" amplitude\n",
    "\n",
    "This will be more of an issue once you attach the beam, but picking the amplitude for your input can be fairly important.  Just like with fixed sine testing, this might be a trial and error process.  If your amplitude is too large, you may cause saturation or break something in the physical system (such as the beam).  This is tricky because the output amplitude will change as a function of frequency. \n",
    "\n",
    "#### Slope too high\n",
    "\n",
    "Another important part of swept sine testing is running the test for an appropriate amount of time with an appropriate frequency slope.  Ideally, the output should track the input at low frequencies, but the test should continue until the output has a hard time keeping up at high frequencies.\n",
    "\n",
    "Here is an example of a slope that is too high:\n",
    "\n",
    "<img src=\"figs/slope_too_high.jpeg\" width=500px>\n",
    "\n",
    "Note that the output is not able to keep up with the input for very much of the test.\n",
    "\n",
    "#### Slope too low or max T too small\n",
    "\n",
    "Here is an example of a slope that is too small or of a test that was not run for long enough:\n",
    "\n",
    "<img src=\"figs/slope_too_low.jpeg\" width=500px>\n",
    "\n",
    "Note that the output is starting to get smaller, but it is still somewhat keeping up.\n",
    "\n",
    "#### Good slope example\n",
    "\n",
    "Here is an example of a pretty good slope choice:\n",
    "\n",
    "<img src=\"figs/good_slope.jpeg\" width=500px>\n",
    "\n",
    "Note that the output is able to track the input for the first part of the test, but the output has mostly died out by the end of the test."
   ]
  },
  {
   "cell_type": "markdown",
   "metadata": {},
   "source": [
    "[back to TOC](#toc)"
   ]
  },
  {
   "cell_type": "markdown",
   "metadata": {},
   "source": [
    "<a id='bode_gen'></a>\n",
    "\n",
    "## Generating a Bode Plot from Experimental Data"
   ]
  },
  {
   "cell_type": "markdown",
   "metadata": {},
   "source": [
    "Once you have \"good\" swept-sine data for the input and output of the system, you are ready to calculate $G(j\\omega)$.  To do this, we will use an `fft` algorithm provided by the `numpy` module (`numpy.fft.fft`).  To avoid typing all of that, we will import it as `fft`:"
   ]
  },
  {
   "cell_type": "code",
   "execution_count": 1,
   "metadata": {},
   "outputs": [],
   "source": [
    "from numpy.fft import fft"
   ]
  },
  {
   "cell_type": "markdown",
   "metadata": {},
   "source": [
    "`fft` stands for fast Fourier transform.  We don't have time to go into too many details about it right now.  The main thing you need to know is that:\n",
    "\n",
    "$$G(j\\omega) = \\frac{\\texttt{fft(output)}}{\\texttt{fft(input)}}$$"
   ]
  },
  {
   "cell_type": "markdown",
   "metadata": {},
   "source": [
    "Once we have $G(j\\omega)$ from the experimental data, we are ready to calculate the dB magnitude and phase.  The final step in generating a Bode plot from experimental data is finding the frequency vector.  If we know the TF and want to generate a Bode plot we can just pick the frequency vector (just like picking a time vector when generating a plot).  When working with experimental data, we need to calculate the frequency vector that corresponds to our time domain data.  If data is collected for a certain length of time $T$ with a certain sampling frequency $f_s$, then\n",
    "\n",
    "$$dt = \\frac{1}{f_s}$$\n",
    "\n",
    "and\n",
    "\n",
    "$$df = \\frac{1}{T}$$\n",
    "\n",
    "We ran our tests at 500 Hz, so that $f_s = 500$ Hz and $dt = 0.002$ seconds.\n",
    "\n",
    "- $f_s$ is controlled by the Arduino timer settings.\n",
    "\n",
    "Our time vector will be\n",
    "\n",
    "$$t = \\left[0, dt, 2 \\cdot dt, 3 \\cdot dt, ..., T-dt\\right]$$\n",
    "\n",
    "And the frequency vector will be\n",
    "\n",
    "$$freq = \\left[0, df, 2 \\cdot df, 3 \\cdot df, ..., f_s-df\\right]$$\n",
    "\n",
    "The easiest way to find the frequency vector in Python is to first calculate $df$.  Then, create an `nvect` based on the length of `t`:\n",
    "\n",
    "```\n",
    "N = len(t)\n",
    "nvect = np.arange(N)\n",
    "```\n",
    "\n",
    "Then, the frequency vector will be\n",
    "\n",
    "```\n",
    "freq = df*nvect\n",
    "```"
   ]
  },
  {
   "cell_type": "markdown",
   "metadata": {},
   "source": [
    "### Fixed Sine vs. Swept Sine\n",
    "\n",
    "Generate a Bode plot that overlays the fixed sine frequency response points you found doing fixed sine testing with the Bode plot from the swept sine test that you just ran."
   ]
  },
  {
   "cell_type": "markdown",
   "metadata": {},
   "source": [
    "[back to TOC](#toc)"
   ]
  },
  {
   "cell_type": "markdown",
   "metadata": {},
   "source": [
    "<a id='compq'></a>\n",
    "\n",
    "## Comprehension Questions"
   ]
  },
  {
   "cell_type": "markdown",
   "metadata": {},
   "source": [
    "### Comp. Q1\n",
    "\n",
    "<img src=\"figs/comp_q1.png\" width=500px>"
   ]
  },
  {
   "cell_type": "markdown",
   "metadata": {},
   "source": [
    "**Q1:** Why would it not be correct to use the two points marked by the green squares in the graph above to calculate magnitude ratio and phase for a fixed sine frequency response test?"
   ]
  },
  {
   "cell_type": "markdown",
   "metadata": {},
   "source": [
    "### Comp. Q2"
   ]
  },
  {
   "cell_type": "markdown",
   "metadata": {},
   "source": [
    "<img src=\"figs/comp_q_2.png\" width=500px>"
   ]
  },
  {
   "cell_type": "markdown",
   "metadata": {},
   "source": [
    "**Q2:** Why would it not be correct to use the two points marked by the green triangles in the graph above to calculate magnitude ratio and phase for a fixed sine frequency response test?"
   ]
  },
  {
   "cell_type": "markdown",
   "metadata": {},
   "source": [
    "[back to TOC](#toc)"
   ]
  }
 ],
 "metadata": {
  "kernelspec": {
   "display_name": "Python 3 (ipykernel)",
   "language": "python",
   "name": "python3"
  },
  "language_info": {
   "codemirror_mode": {
    "name": "ipython",
    "version": 3
   },
   "file_extension": ".py",
   "mimetype": "text/x-python",
   "name": "python",
   "nbconvert_exporter": "python",
   "pygments_lexer": "ipython3",
   "version": "3.12.4"
  }
 },
 "nbformat": 4,
 "nbformat_minor": 4
}
