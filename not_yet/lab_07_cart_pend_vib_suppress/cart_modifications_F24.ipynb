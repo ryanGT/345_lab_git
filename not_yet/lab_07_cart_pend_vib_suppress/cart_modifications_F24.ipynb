{
 "cells": [
  {
   "cell_type": "markdown",
   "id": "908cbec9-6ea9-4ba3-9783-73839dc38db7",
   "metadata": {},
   "source": [
    "# Cart Modifications F24"
   ]
  },
  {
   "cell_type": "markdown",
   "id": "0601876d-d2f6-4b65-a77d-f719d60664f5",
   "metadata": {},
   "source": [
    "This is the 7th year of the cart/pendulum project in EGR 345.  The last two years have gone pretty well with most teams able to balance the pendulum in the upright position for several minutes.  There is however one nagging problem that has frustrated students: these zero point both in the pendulum up and pendulum down positions seems to vary a little bit between tests.  I have been working on this for a while. At this point, it is not clear if this is simply a result of friction causing the pendulum to have a range of values where it can come to rest or where it could stay up or if the sensor reading really is unreliable. \n",
    "\n",
    "One theory I have is that the encoder interrupts occasionally get superseded by i2c interrupts.  So this year we are simplifying the project by getting rid of line following and we are also going to avoid i2c in hopes of avoiding any interrupt collision.  In order to do this, we are going to eliminate the Arduino Uno and use only the Arduino Mega and a Raspberry Pi. Additionally, the Mega and the Raspberry Pi will communicate only via USB serial.\n",
    "\n",
    "In order to do this, you need to make some wiring modifications to the cart/pendulum system.  Start by removing the Arduino Uno and the servo.  Then separate the two layers of plastic by unscrewing the four corner screws.  Once you have access to the top of the raspberry pi, use a small screwdriver to remove all of the Raspberry Pi jumper wires.  Additionally, remove the black PCB attached to the mega that allows the connections to the two line sensors.  Also remove the ribbon cables that go out to the line sensors. \n",
    "\n",
    "In order to connect the encoder directly to the Arduino Mega, we need additional jumper wires.  The green and white wires on the encoder are the A and B data channels.  They need to be connected to pins two and three on the mega.  The encoder also needs 5 volts and ground to power it.  Once you have those four jumper wires attached, run them through the top level of plastic and reattach the two plastic layers to one another.  Once you have the top level of plastic and pendulum reattached, connect the jumper wires to the existing encoder connections.  The images below show these jumper wire connections. \n",
    "\n"
   ]
  },
  {
   "cell_type": "markdown",
   "id": "74902d73-5f9d-413d-9018-6cdf87ecf4b9",
   "metadata": {},
   "source": [
    "<img src=\"https://faculty.gvsu.edu/kraussry/345_images/lab/cart_mods_f24/encoder_wires.png\" width=500px>"
   ]
  },
  {
   "cell_type": "markdown",
   "id": "5a38eea3-01bc-4736-bff9-54307b291b71",
   "metadata": {},
   "source": [
    "<img src=\"https://faculty.gvsu.edu/kraussry/345_images/lab/cart_mods_f24/encoder_power_wires.png\" width=500px>"
   ]
  },
  {
   "cell_type": "markdown",
   "id": "c01bdfaf-b6b3-4d9e-8bbc-5cbb531f810d",
   "metadata": {},
   "source": [
    "<img src=\"https://faculty.gvsu.edu/kraussry/345_images/lab/cart_mods_f24/final_encoder_connections.png\" width=500px>"
   ]
  }
 ],
 "metadata": {
  "kernelspec": {
   "display_name": "Python 3 (ipykernel)",
   "language": "python",
   "name": "python3"
  },
  "language_info": {
   "codemirror_mode": {
    "name": "ipython",
    "version": 3
   },
   "file_extension": ".py",
   "mimetype": "text/x-python",
   "name": "python",
   "nbconvert_exporter": "python",
   "pygments_lexer": "ipython3",
   "version": "3.12.5"
  }
 },
 "nbformat": 4,
 "nbformat_minor": 5
}
