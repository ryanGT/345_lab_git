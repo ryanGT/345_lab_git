{
 "cells": [
  {
   "cell_type": "markdown",
   "id": "competitive-string",
   "metadata": {},
   "source": [
    "# Lab 6 Procedure"
   ]
  },
  {
   "cell_type": "markdown",
   "id": "e1db03e4-c74f-4a5a-8377-b67ebbd71ac2",
   "metadata": {},
   "source": [
    "### Revision Notes\n",
    "\n",
    "The latest version adds a section on deliverables and also adds clarification to Comprehension Question 2."
   ]
  },
  {
   "cell_type": "markdown",
   "id": "fresh-console",
   "metadata": {},
   "source": [
    "## Introduction"
   ]
  },
  {
   "cell_type": "markdown",
   "id": "superb-flooring",
   "metadata": {},
   "source": [
    "This is a two week lab.  At the end of the two weeks, your team should have a Bode plot for the beam/motor system along with a transfer function that fits the Bode data well.\n",
    "\n",
    "This lab has four main parts:\n",
    "\n",
    "- Attaching the beam and accelerometer to the motor\n",
    "- Running fixed sign tests\n",
    "- Running swept sign tests and generating an experimental Bode plot\n",
    "- Curve fitting a transfer function to the experimental Bode plot\n",
    "\n",
    "The fixed sign and swept sign testing is in some ways similar to the previous lab.  However, you are now working with a different system and there are some experimental details that require additional attention. The main issue is that there is very little chance you could damage the RC filter lby running a test with bad parameters. And this week's lab, there is some risk of you breaking the beam and it will also require a little bit more effort to get good data.\n"
   ]
  },
  {
   "cell_type": "markdown",
   "id": "08c975c6-05d7-42cf-b841-b05cbda5f02e",
   "metadata": {},
   "source": [
    "## i$^2$c gotcha\n",
    "\n",
    "In order to not break things, I ask you to run your initial tests with the accelerometer wires disconnected so they don't get wrapped around the motor if things go wrong.  After you connect the i$^2$c wires, you **must** restart the Arduino."
   ]
  },
  {
   "cell_type": "markdown",
   "id": "1881c788-5666-4706-930f-8db2dc131780",
   "metadata": {},
   "source": [
    "## Software Update\n",
    "\n",
    "Once again, you will need to update Dr. Krauss' Python modules for things to work properly:\n",
    "\n",
    "Please upgrade `wxbd_gui` and `py_block_diagram`:\n",
    "\n",
    "- Windows (anaconda prompt):\n",
    "    - `pip install --upgrade wxbd_gui`\n",
    "    - `pip install --upgrade py_block_diagram`\n",
    "- Mac/Linex (terminal):\n",
    "    - `pip3 install --upgrade wxbd_gui`\n",
    "    - `pip3 install --upgrade py_block_diagram`"
   ]
  },
  {
   "cell_type": "markdown",
   "id": "ba8d5efe-96a1-453f-928e-2a0a40432609",
   "metadata": {},
   "source": [
    "## New Arduino Template\n",
    "\n",
    "Note that there is a new Arduino template to use with the accelerometers.  It should be in the Lab 6 github folder.\n",
    "\n",
    "[arduino_template_accel.ino](arduino_template_accel.ino)"
   ]
  },
  {
   "cell_type": "markdown",
   "id": "95fb4a76-ed65-49bf-bdc7-154a11fc4b6d",
   "metadata": {},
   "source": [
    "## New Arduino Libraries\n",
    "\n",
    "We need to install the `I2Cdev` and `MPU6050` Arduino libraries from this github page:\n",
    "\n",
    "[https://github.com/jrowberg/i2cdevlib/tree/master/Arduino](https://github.com/jrowberg/i2cdevlib/tree/master/Arduino)\n",
    "\n",
    "Unfortunately, the author didn't really package the code for us to grab just one or two libraries.  You download all of his code as a zip and then copy the two folders we need.  Ultimately, you need folders call `I2Cdev` and `MPU6050` in your `Arduino/libraries` folder along with all their content.\n",
    "\n",
    "- `Arduino`\n",
    "    - `libraries`\n",
    "        - `I2Cdev`\n",
    "            - `I2Cdev.h`\n",
    "            - `I2Cdev.cpp`\n",
    "            - other stuff as well\n",
    "        - `MPU6050`\n",
    "            - `MPU6050.h`\n",
    "            - `MPU6050.cpp`\n",
    "            - other stuff as well"
   ]
  },
  {
   "cell_type": "markdown",
   "id": "operating-patent",
   "metadata": {},
   "source": [
    "## Attaching the Beam"
   ]
  },
  {
   "cell_type": "markdown",
   "id": "different-ecuador",
   "metadata": {},
   "source": [
    "**Note:** Please be careful not to strip the threads in the aluminum hubs.  Some are SAE #4-40 and some are M3.  These look very similar.  Please try finger tightening one screw and then the other to verify."
   ]
  },
  {
   "cell_type": "markdown",
   "id": "happy-queensland",
   "metadata": {},
   "source": [
    "#### Hub pic 1\n",
    "\n",
    "<img src=\"figs/sae40hubs.jpeg\" width=400px>\n",
    "\n",
    "#### Hub pic 2"
   ]
  },
  {
   "cell_type": "markdown",
   "id": "balanced-teens",
   "metadata": {},
   "source": [
    "<img src=\"figs/m3hubs.jpeg\" width=400px>"
   ]
  },
  {
   "cell_type": "markdown",
   "id": "about-empire",
   "metadata": {},
   "source": [
    "### Bad Screws\n",
    "\n",
    "If your base is attached to the hub with screws that look like this:\n",
    "\n",
    "<img src=\"figs/badscrews.jpeg\" width=350px>"
   ]
  },
  {
   "cell_type": "markdown",
   "id": "distant-upgrade",
   "metadata": {},
   "source": [
    "it means that last year's students solved a problem, but put #4-40 SAE screws in a hub with M3 threads.  Please swap the screws out for M3's."
   ]
  },
  {
   "cell_type": "markdown",
   "id": "effective-surprise",
   "metadata": {},
   "source": [
    "### Beam attached to motor\n",
    "\n",
    "The picture below shows a beam attached to a motor.  Do not attach the accelerometer wires yet (if there are wires connected to your accelerometer, leave them dangling but do not attach them to the Arduino yet).  \n",
    "\n",
    "Note that there are four washers with the 1/4-20 bolt at the end for weight.  This is necessary to get the beam vibration modes at frequencies we can work with. \n",
    "\n",
    "<img src=\"figs/accelpic1.jpeg\" width=500px>"
   ]
  },
  {
   "cell_type": "markdown",
   "id": "transsexual-flashing",
   "metadata": {},
   "source": [
    "## Fixed sine tests *without* accelerometer wires"
   ]
  },
  {
   "cell_type": "markdown",
   "id": "viral-tribute",
   "metadata": {},
   "source": [
    "Last week, we did fixed sine and swept sine tests with the DC motors under feedback control.  The only change needed for this week is to add a second plant that reads the acceleromter data:\n",
    "\n",
    "<img src=\"figs/wxbd_with_accel.jpg\" width=500px>\n",
    "\n",
    "Note that $G$ is a plant that represents the motor.  $G_2$ represents the motion of the motor causing the vibration of the beam.  $G_2$ is modeled using a `plant_no_actuator` block.  The sensor for $G_2$ is an \n",
    "`accelerometer`.\n",
    "\n",
    "For now, use the same $K_p$ and $K_d$ values as last week.  It may be necessary to adjust $K_p$ and $K_d$ during the swept sine tests."
   ]
  },
  {
   "cell_type": "markdown",
   "id": "senior-throw",
   "metadata": {},
   "source": [
    "### Running tests without breaking things"
   ]
  },
  {
   "cell_type": "markdown",
   "id": "mounted-niagara",
   "metadata": {},
   "source": [
    "Try setting your fixed amplitude to 20 to start with.  Run a test and verify that the beam vibrates some without going crazy or breaking the beam.  Try frequencies of 1 Hz, 2 Hz, and 5 Hz and verify that your amplitude is reasonable."
   ]
  },
  {
   "cell_type": "markdown",
   "id": "sunrise-brush",
   "metadata": {},
   "source": [
    "### Accelerometer Wiring"
   ]
  },
  {
   "cell_type": "markdown",
   "id": "aware-outline",
   "metadata": {},
   "source": [
    "Once you have a good idea of what parameters to use for a test and have verified that the system is stable and nothing breaks, you are ready to attach the accelerometer wires.\n",
    "\n",
    "There are four wiring connections that need to be made between the MPU 6050 accelerometer and the Arduino:\n",
    "\n",
    "\n",
    "| Accel Pin   | Arduino Pin |\n",
    "| ----------- | ----------- |\n",
    "| Vcc         | 5V          |\n",
    "| GND         | GND         |\n",
    "| SCL         | A5          |\n",
    "| SDA         | A4          |\n",
    "\n",
    "\n",
    "### i$^2$c gotcha\n",
    "\n",
    "After you connect the i$^2$c wires, be sure to restart the Arduino.  If the Arduino does not detect any connected i$^2$c devices when it starts up, it gives up on trying to communicate over i$^2$c.  If your accelerometer is giving all zeros in the serial monitor/data file, this is the most likely reason.\n",
    "\n",
    "<img src=\"figs/mpu6050wiring.jpeg\" width=500px>\n",
    "\n",
    "<img src=\"figs/arduinoi2cwiring.jpeg\" width=500px>"
   ]
  },
  {
   "cell_type": "markdown",
   "id": "paperback-depth",
   "metadata": {},
   "source": [
    "### Fixed Sine Frequencies\n",
    "\n",
    "Run an initial batch of fixed sine tests using frequencies of 0.5, 1, 2, 3, 5, and 7 Hz.  Verify that your data reaches steady-state.  At some point, you will need to estimate the magnitude ratio and phase for these fixed sine tests."
   ]
  },
  {
   "cell_type": "markdown",
   "id": "quantitative-freeware",
   "metadata": {},
   "source": [
    "## Swept Sine Testing"
   ]
  },
  {
   "cell_type": "markdown",
   "id": "forced-identification",
   "metadata": {},
   "source": [
    "Getting \"good\" swept sine data takes some trial and error along with tweaking the test parameters.  Parameters to vary include the swept sine amplitude and slope, $K_p$ and $K_d$, and `stop_t`.  You know the data is \"good\" when it leads to a \"good\" Bode plot.\n",
    "\n",
    "All Bode plots have noise at high frequencies.  An accelerometer is subject to noise at low frequencies as well.  So, we expect the Bode plot to have noise on the left and right sides.  \n",
    "\n",
    "The beam has two modes of vibration in the frequency range we are working with.  This means we should see two peaks in Bode plot.  Here is an example of a pretty good Bode plot "
   ]
  },
  {
   "cell_type": "markdown",
   "id": "gentle-commercial",
   "metadata": {},
   "source": [
    "<img src=\"figs/accelbode.jpg\" width=500px>"
   ]
  },
  {
   "cell_type": "markdown",
   "id": "7291c80b-f7bb-4735-80ee-1c85162b364f",
   "metadata": {},
   "source": [
    "## Example Mediocre Data"
   ]
  },
  {
   "cell_type": "markdown",
   "id": "0a4abe87-32f9-437f-847a-f67ed46627d5",
   "metadata": {},
   "source": [
    "Below are a video and plots of swept sine data quickly gather by Dr. Krauss to help you know if you are in the ball park."
   ]
  },
  {
   "cell_type": "markdown",
   "id": "9ad6df55-f137-4552-b307-b11a12367a92",
   "metadata": {},
   "source": [
    "### Swept Sine Video\n",
    "\n",
    "Here is a video of a mediocre swept sine test to calibrate your expectations:\n",
    "\n",
    "[https://youtu.be/LIF4SnX-2LA](https://youtu.be/LIF4SnX-2LA)"
   ]
  },
  {
   "cell_type": "markdown",
   "id": "4fee3f78-db99-420a-b0b1-020b94e304d5",
   "metadata": {},
   "source": [
    "#### Closed-Loop Input and Encoder vs. Time\n",
    "\n",
    "<img src=\"figs/u_and_enc_vs_time.png\" width=500px>"
   ]
  },
  {
   "cell_type": "markdown",
   "id": "99844c3a-a3a7-4ec5-816f-94b6d279564d",
   "metadata": {},
   "source": [
    "### Clipping on the Acceleration Data\n",
    "\n",
    "Dr. Krauss' acceleration data is mediocre because there is clipping.  This means that the actual maximum acceleration was not measured correctly because it exceeded the measurement range of the sensor.\n",
    "\n",
    "<img src=\"figs/accel_with_clipping.png\" width=500px>"
   ]
  },
  {
   "cell_type": "markdown",
   "id": "4674dba2-33cd-4ec3-8b31-a2f628f29ee4",
   "metadata": {},
   "source": [
    "### Less-Than-Mediocre Bode\n",
    "\n",
    "The Bode plot based on Dr. Krauss' data is less than mediocre.  The biggest issue is that the input does not reach a high enough frequency.\n",
    "\n",
    "<img src=\"figs/mediocre_bode.png\" width=500px>"
   ]
  },
  {
   "cell_type": "markdown",
   "id": "a3713812-2518-4cc9-95a7-ab2e2185e0f1",
   "metadata": {},
   "source": [
    "## Deliverables: Bode Plots\n",
    "\n",
    "Your memo must include two Bode plots:\n",
    "\n",
    "$$G_1 = \\frac{\\textrm{encoder}}{U}$$\n",
    "\n",
    "$$G_2 = \\frac{\\textrm{accelerometer}}{U}$$\n",
    "\n",
    "where $U$ is the closed-loop input in the block diagram shown above.\n",
    "\n",
    "\n",
    "For the first Bode plot with the encoder as the output, you must include swept sine and fixed sine data along with the Bode plot from your TF.\n",
    "\n",
    "For the second Bode plot with the acceleromter as the output, you do not need to include fixed sine data - only swept sine and the Bode plot from your TF.\n",
    "\n",
    "**Note:** You must find a TF for both Bode plots.\n",
    "\n",
    "**Another Note:** You do **not** need to use `optimize.fmin`; just get the Bode plots as close as you can through manual tweaking of coefficients.\n",
    "\n"
   ]
  },
  {
   "cell_type": "markdown",
   "id": "intensive-nigeria",
   "metadata": {},
   "source": [
    "## Comprehension Questions"
   ]
  },
  {
   "cell_type": "markdown",
   "id": "supposed-respondent",
   "metadata": {},
   "source": [
    "**Q1:** What did you observe during fixed sine tests near the two modes of vibration?  What happens as the fixed sine frequency gets close to the vibration frequency?  How are the responses at the two frequencies similar?  How are the responses at the two frequencies different?"
   ]
  },
  {
   "cell_type": "markdown",
   "id": "apart-crystal",
   "metadata": {},
   "source": [
    "**Q2:**  How did you arrive at the final form for your transfer function?  What aspects of your Bode plot lead you to include certain terms in your TF?\n",
    "\n",
    "- Q2 Note: discuss this for both TFs listed above $G_1$ and $G_2$\n",
    "    - is there physical significance to any of the terms in your TFs?"
   ]
  },
  {
   "cell_type": "markdown",
   "id": "seasonal-sapphire",
   "metadata": {},
   "source": [
    "**Q3:** What does a Bode plot represent?"
   ]
  },
  {
   "cell_type": "markdown",
   "id": "controversial-colonial",
   "metadata": {},
   "source": [
    "**Q4:** When working with frequency response, what are magnitude ratio and phase shift?"
   ]
  }
 ],
 "metadata": {
  "kernelspec": {
   "display_name": "Python 3 (ipykernel)",
   "language": "python",
   "name": "python3"
  },
  "language_info": {
   "codemirror_mode": {
    "name": "ipython",
    "version": 3
   },
   "file_extension": ".py",
   "mimetype": "text/x-python",
   "name": "python",
   "nbconvert_exporter": "python",
   "pygments_lexer": "ipython3",
   "version": "3.12.7"
  }
 },
 "nbformat": 4,
 "nbformat_minor": 5
}
