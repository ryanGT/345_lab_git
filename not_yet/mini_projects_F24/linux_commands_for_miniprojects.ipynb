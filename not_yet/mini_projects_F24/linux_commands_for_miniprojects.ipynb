{
 "cells": [
  {
   "cell_type": "markdown",
   "id": "46f6c92b",
   "metadata": {},
   "source": [
    "## Commands to Start Lab Each week\n",
    "\n",
    "- `cd 345_lab_git/`\n",
    "- `git pull origin main`\n",
    "- `upgrade_drkrauss_python.sh`\n",
    "- `update_krauss_arduino.sh`"
   ]
  },
  {
   "cell_type": "markdown",
   "id": "d9feea52",
   "metadata": {},
   "source": [
    "## Helper Commands for Mini-Project 1 workflow\n",
    "\n",
    "- `geany filename.csv`\n",
    "    - copy and paste your data into geany, save and quit\n",
    "- `clean_data_file.py filename.csv`\n",
    "- `mp1_settling_time_calc.py filename_clean.csv`"
   ]
  },
  {
   "cell_type": "code",
   "execution_count": null,
   "id": "6547909c",
   "metadata": {},
   "outputs": [],
   "source": []
  }
 ],
 "metadata": {
  "kernelspec": {
   "display_name": "Python 3 (ipykernel)",
   "language": "python",
   "name": "python3"
  },
  "language_info": {
   "codemirror_mode": {
    "name": "ipython",
    "version": 3
   },
   "file_extension": ".py",
   "mimetype": "text/x-python",
   "name": "python",
   "nbconvert_exporter": "python",
   "pygments_lexer": "ipython3",
   "version": "3.12.5"
  }
 },
 "nbformat": 4,
 "nbformat_minor": 5
}
