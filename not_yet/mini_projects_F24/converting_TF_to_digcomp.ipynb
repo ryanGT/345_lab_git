{
 "cells": [
  {
   "cell_type": "code",
   "execution_count": 1,
   "id": "ddbe70f2-19f5-495b-b069-ae1e3bce417f",
   "metadata": {},
   "outputs": [],
   "source": [
    "%matplotlib inline\n",
    "import matplotlib.pyplot as plt\n",
    "import numpy as np\n",
    "import control\n",
    "from numpy import sin, cos, tan, pi\n",
    "from control import TransferFunction as TF"
   ]
  },
  {
   "cell_type": "code",
   "execution_count": 2,
   "id": "757d8b1a-9ace-4ccb-96ec-5b67941c5a5a",
   "metadata": {},
   "outputs": [
    {
     "data": {
      "text/latex": [
       "$$\\frac{s + 30}{s + 10}$$"
      ],
      "text/plain": [
       "TransferFunction(array([ 1, 30]), array([ 1, 10]))"
      ]
     },
     "execution_count": 2,
     "metadata": {},
     "output_type": "execute_result"
    }
   ],
   "source": [
    "p = 10\n",
    "a = 30\n",
    "Ds = TF([1,a],[1,p])\n",
    "Ds"
   ]
  },
  {
   "cell_type": "code",
   "execution_count": 3,
   "id": "2398a380-68a9-4350-a3b6-ba8a00cd3238",
   "metadata": {},
   "outputs": [],
   "source": [
    "dt = 0.002"
   ]
  },
  {
   "cell_type": "code",
   "execution_count": 4,
   "id": "fca917a0-653c-4539-b046-475b054791d2",
   "metadata": {},
   "outputs": [],
   "source": [
    "import digcomp"
   ]
  },
  {
   "cell_type": "markdown",
   "id": "f76506a3-6888-4ef2-8f3b-0b3f7cad381b",
   "metadata": {},
   "source": [
    "The $s$ domain is sometimes referred to as the continuous domain.  $z$ is used for discrete time or digital control."
   ]
  },
  {
   "cell_type": "code",
   "execution_count": 5,
   "id": "e504e5db-d85e-415d-8981-4b8ef090bb57",
   "metadata": {},
   "outputs": [
    {
     "data": {
      "text/plain": [
       "<digcomp.Dig_Comp_from_ctime at 0x116ad1b20>"
      ]
     },
     "execution_count": 5,
     "metadata": {},
     "output_type": "execute_result"
    }
   ],
   "source": [
    "Dz = digcomp.Dig_Comp_from_ctime(Ds,dt=dt)\n",
    "Dz"
   ]
  },
  {
   "cell_type": "code",
   "execution_count": 6,
   "id": "788ec4e0-a6d4-49fb-a74f-121071af6e52",
   "metadata": {},
   "outputs": [
    {
     "data": {
      "text/plain": [
       "array([ 1.01980198, -0.96039604])"
      ]
     },
     "execution_count": 6,
     "metadata": {},
     "output_type": "execute_result"
    }
   ],
   "source": [
    "Dz.num"
   ]
  },
  {
   "cell_type": "code",
   "execution_count": 7,
   "id": "bf89bd01-34a5-4a25-99f5-79829a1be28f",
   "metadata": {},
   "outputs": [
    {
     "data": {
      "text/plain": [
       "array([ 1.        , -0.98019802])"
      ]
     },
     "execution_count": 7,
     "metadata": {},
     "output_type": "execute_result"
    }
   ],
   "source": [
    "Dz.den"
   ]
  },
  {
   "cell_type": "code",
   "execution_count": null,
   "id": "e8264c33-cc68-4bb9-b61a-76e4023b75bf",
   "metadata": {},
   "outputs": [],
   "source": []
  }
 ],
 "metadata": {
  "kernelspec": {
   "display_name": "Python 3 (ipykernel)",
   "language": "python",
   "name": "python3"
  },
  "language_info": {
   "codemirror_mode": {
    "name": "ipython",
    "version": 3
   },
   "file_extension": ".py",
   "mimetype": "text/x-python",
   "name": "python",
   "nbconvert_exporter": "python",
   "pygments_lexer": "ipython3",
   "version": "3.12.5"
  }
 },
 "nbformat": 4,
 "nbformat_minor": 5
}
