{
 "cells": [
  {
   "cell_type": "markdown",
   "id": "43527396",
   "metadata": {},
   "source": [
    "## git pull\n",
    "\n",
    "- `cd 345_lab_git`\n",
    "- `git pull origin main`"
   ]
  },
  {
   "cell_type": "markdown",
   "id": "5677b23b",
   "metadata": {},
   "source": [
    "## Software updates"
   ]
  },
  {
   "cell_type": "markdown",
   "id": "87201b97",
   "metadata": {},
   "source": [
    "- `upgrade_drkrauss_python.sh`\n",
    "- `update_krauss_arduino.sh`"
   ]
  },
  {
   "cell_type": "markdown",
   "id": "fa3b7ab2",
   "metadata": {},
   "source": [
    "## VNC Prep (one time)"
   ]
  },
  {
   "cell_type": "markdown",
   "id": "c4e34667",
   "metadata": {},
   "source": [
    "- `sudo raspi-config`\n",
    "    - `interface options`\n",
    "       - `vnc`\n",
    "           - `yes`"
   ]
  },
  {
   "cell_type": "markdown",
   "id": "77a68a6b",
   "metadata": {},
   "source": [
    "### Get IP Address\n",
    "\n",
    "- `ifconfig`\n",
    "- under `wlan0`, find something that matches `35.40.171.xxx`\n",
    "    - write that down"
   ]
  },
  {
   "cell_type": "markdown",
   "id": "284a984c",
   "metadata": {},
   "source": [
    "### Install VNC viewer\n",
    "\n",
    "- there are different options\n",
    "    - you should not need a Real VNC account\n",
    "- launch vnc viewer on your laptop and type in ip address"
   ]
  },
  {
   "cell_type": "markdown",
   "id": "1ff386cc",
   "metadata": {},
   "source": [
    "### VNC Login\n",
    "\n",
    "- username student345"
   ]
  },
  {
   "cell_type": "code",
   "execution_count": null,
   "id": "10e762f1",
   "metadata": {},
   "outputs": [],
   "source": []
  }
 ],
 "metadata": {
  "kernelspec": {
   "display_name": "Python 3 (ipykernel)",
   "language": "python",
   "name": "python3"
  },
  "language_info": {
   "codemirror_mode": {
    "name": "ipython",
    "version": 3
   },
   "file_extension": ".py",
   "mimetype": "text/x-python",
   "name": "python",
   "nbconvert_exporter": "python",
   "pygments_lexer": "ipython3",
   "version": "3.12.5"
  }
 },
 "nbformat": 4,
 "nbformat_minor": 5
}
