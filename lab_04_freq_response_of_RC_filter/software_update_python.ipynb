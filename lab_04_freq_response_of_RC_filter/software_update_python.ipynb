{
 "cells": [
  {
   "cell_type": "markdown",
   "id": "ae0c6f35-14ce-4c75-9d3d-a9a1992eac33",
   "metadata": {},
   "source": [
    "<a id='sw_update'></a>\n",
    "\n",
    "## Software Update\n",
    "\n",
    "Please upgrade `wxbd_gui` and `py_block_diagram` to fix a few bugs and add column labels to the serial monitor data:\n",
    "\n",
    "- Windows (anaconda prompt):\n",
    "    - `pip install --upgrade wxbd_gui`\n",
    "    - `pip install --upgrade py_block_diagram`\n",
    "- Mac/Linex (terminal):\n",
    "    - `pip3 install --upgrade wxbd_gui`\n",
    "    - `pip3 install --upgrade py_block_diagram`"
   ]
  }
 ],
 "metadata": {
  "kernelspec": {
   "display_name": "Python 3 (ipykernel)",
   "language": "python",
   "name": "python3"
  },
  "language_info": {
   "codemirror_mode": {
    "name": "ipython",
    "version": 3
   },
   "file_extension": ".py",
   "mimetype": "text/x-python",
   "name": "python",
   "nbconvert_exporter": "python",
   "pygments_lexer": "ipython3",
   "version": "3.13.3"
  }
 },
 "nbformat": 4,
 "nbformat_minor": 5
}
